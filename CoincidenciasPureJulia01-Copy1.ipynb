{
 "cells": [
  {
   "cell_type": "markdown",
   "metadata": {
    "collapsed": true
   },
   "source": [
    "Esta cosa debería de tomar dos archivos, una sucesión de tiempos del GD y otra del CA, y checar coincidencias. Usemos Julia solamente y tratemos de paralelizar."
   ]
  },
  {
   "cell_type": "code",
   "execution_count": 1,
   "metadata": {
    "collapsed": false
   },
   "outputs": [],
   "source": [
    "# using HDF5, JLD"
   ]
  },
  {
   "cell_type": "code",
   "execution_count": 1,
   "metadata": {
    "collapsed": false
   },
   "outputs": [],
   "source": [
    "ListaCA=readdir(\"./DatosEnero2016/espigas/CA3/\");\n",
    "ListaGD=readdir(\"./DatosEnero2016/espigas/DG/\");"
   ]
  },
  {
   "cell_type": "code",
   "execution_count": 2,
   "metadata": {
    "collapsed": false
   },
   "outputs": [
    {
     "data": {
      "text/plain": [
       "Dict{Any,Any} with 0 entries"
      ]
     },
     "execution_count": 2,
     "metadata": {},
     "output_type": "execute_result"
    }
   ],
   "source": [
    "EntradasYValores=Dict{Any,Any}()\n",
    "Randomizados=Dict{Any,Any}()"
   ]
  },
  {
   "cell_type": "code",
   "execution_count": 3,
   "metadata": {
    "collapsed": false
   },
   "outputs": [],
   "source": [
    "ejemploCA=readdlm(\"./DatosEnero2016/CA3/Ch31_46.txt\");\n",
    "ejemploGD=readdlm(\"./DatosEnero2016/DG/Ch24_27.txt\");"
   ]
  },
  {
   "cell_type": "code",
   "execution_count": 7,
   "metadata": {
    "collapsed": false
   },
   "outputs": [
    {
     "data": {
      "text/plain": [
       "CoincidenGDaCA (generic function with 1 method)"
      ]
     },
     "execution_count": 7,
     "metadata": {},
     "output_type": "execute_result"
    }
   ],
   "source": [
    "function CoincidenGDaCA(GD::Array, CA::Array)\n",
    "    cuantosCA=length(CA)\n",
    "    cuantosGD=length(GD)\n",
    "    #Unidades en frames, son 1/7022 de segundo\n",
    "    desde=13\n",
    "    hasta=71\n",
    "    coinciden::Int64=0\n",
    "    \n",
    "\n",
    "    j=1\n",
    "    \n",
    "    while j<cuantosGD\n",
    "       \n",
    "        k=1\n",
    "\n",
    "        while k<cuantosCA\n",
    "            dift=(CA[k]-GD[j])           \n",
    "            if desde<dift<hasta\n",
    "                coinciden+=1\n",
    "            elseif dift>hasta\n",
    "                break\n",
    "            end\n",
    "            k+=1        \n",
    "        end\n",
    "        j+=1       \n",
    "    end\n",
    "    \n",
    "    return coinciden\n",
    "end"
   ]
  },
  {
   "cell_type": "code",
   "execution_count": 8,
   "metadata": {
    "collapsed": false
   },
   "outputs": [
    {
     "data": {
      "text/plain": [
       "1"
      ]
     },
     "execution_count": 8,
     "metadata": {},
     "output_type": "execute_result"
    }
   ],
   "source": [
    "CoincidenGDaCA(ejemploGD,ejemploCA)"
   ]
  },
  {
   "cell_type": "code",
   "execution_count": 9,
   "metadata": {
    "collapsed": false
   },
   "outputs": [
    {
     "name": "stdout",
     "output_type": "stream",
     "text": [
      "  5.217738 seconds (7.48 M allocations: 7.813 GB, 7.48% gc time)\n"
     ]
    }
   ],
   "source": [
    "CoincidenciasCausales=Array(Int, 1,7)\n",
    "Pupu=Int32[]\n",
    "laregexp=r\"([0-9]{2})_([0-9]{2})\"\n",
    "@time for k in ListaCA, j in ListaGD\n",
    "    ejemploCA=readdlm(\"./DatosEnero2016/espigas/CA3/$k\")\n",
    "    ejemploGD=readdlm(\"./DatosEnero2016/espigas/DG/$j\")  \n",
    "    \n",
    "    parapa=match(laregexp, k)\n",
    "    perepe=match(laregexp,j)\n",
    "    #println(typeof(parapa), parapa,k,j)\n",
    "    \n",
    "    parteCA=[parse(Int64,s) for s=parapa.captures ]  \n",
    "    parteGD=[parse(Int64,z) for z=perepe.captures ]\n",
    "    \n",
    "    cuantos=CoincidenGDaCA(ejemploGD,ejemploCA)\n",
    "    \n",
    "    Pupu=[parteGD; parteCA; [cuantos; length(ejemploGD); length(ejemploCA)]]'\n",
    "    CoincidenciasCausales=vcat(CoincidenciasCausales, Pupu)\n",
    "    \n",
    "end\n",
    "\n",
    "CoincidenciasCausales=CoincidenciasCausales[2:end,:];\n"
   ]
  },
  {
   "cell_type": "code",
   "execution_count": 10,
   "metadata": {
    "collapsed": false
   },
   "outputs": [],
   "source": [
    "writedlm(\"CoincidenciasPseudoRealesPureJulia01.dat\", CoincidenciasCausales)"
   ]
  },
  {
   "cell_type": "code",
   "execution_count": 11,
   "metadata": {
    "collapsed": false
   },
   "outputs": [
    {
     "data": {
      "text/plain": [
       "9021"
      ]
     },
     "execution_count": 11,
     "metadata": {},
     "output_type": "execute_result"
    }
   ],
   "source": [
    "sum(CoincidenciasCausales[:,5])"
   ]
  },
  {
   "cell_type": "code",
   "execution_count": 31,
   "metadata": {
    "collapsed": false
   },
   "outputs": [
    {
     "data": {
      "text/plain": [
       "tiempodeintervalos (generic function with 1 method)"
      ]
     },
     "execution_count": 31,
     "metadata": {},
     "output_type": "execute_result"
    }
   ],
   "source": [
    "function sacaintervalos(xxs::Array)\n",
    "    result=zeros(xxs)\n",
    "    result[1]=xxs[1]\n",
    "    for j=2:length(xxs)\n",
    "        result[j]=xxs[j]-xxs[j-1]\n",
    "    end\n",
    "    return result\n",
    "end\n",
    "\n",
    "function tiempodeintervalos(xxs::Array)\n",
    "    largo=length(xxs)\n",
    "    result=zeros(largo)\n",
    "    result[1]=xxs[1]\n",
    "    for j=1:largo-1\n",
    "        result[j+1]=result[j]+xxs[j+1]\n",
    "    end\n",
    "    return result\n",
    "end\n",
    "    "
   ]
  },
  {
   "cell_type": "code",
   "execution_count": 35,
   "metadata": {
    "collapsed": false
   },
   "outputs": [
    {
     "name": "stdout",
     "output_type": "stream",
     "text": [
      "588.938330 seconds (85.69 M allocations: 45.378 GB, 0.69% gc time)\n"
     ]
    }
   ],
   "source": [
    "RandomCoincide=zeros(Float32, 1,7)\n",
    "Pupu=Float32[]\n",
    "cuantasveces=1000\n",
    "promcoincide=0\n",
    "@time for k in ListaCA, j in ListaGD\n",
    "    \n",
    "    ejemploCA=readdlm(\"./DatosEnero2016/CA3/$k\")\n",
    "    ejemploGD=readdlm(\"./DatosEnero2016/DG/$j\")\n",
    "    \n",
    "    parapa=match(laregexp,k)\n",
    "    perepe=match(laregexp,j)\n",
    "    \n",
    "    parteCA=[parse(Int64,s) for s=parapa.captures ]\n",
    "    parteGD=[parse(Int64,s) for s=perepe.captures ]\n",
    "        \n",
    "    intervalosGD=sacaintervalos(vec(ejemploGD))\n",
    "    intervalosCA=sacaintervalos(vec(ejemploCA))\n",
    "    \n",
    "    for t in 1:cuantasveces\n",
    "        shuffle!(intervalosGD)\n",
    "        shuffle!(intervalosCA)\n",
    "        novoCA=tiempodeintervalos(intervalosCA)\n",
    "        novoGD=tiempodeintervalos(intervalosGD)\n",
    "        promcoincide+=CoincidenGDaCA(novoGD, novoCA)\n",
    "        \n",
    "    end\n",
    "    promcoincide/=cuantasveces\n",
    "    Pupu=[parteGD; parteCA; [promcoincide; length(ejemploGD); length(ejemploCA)]]'\n",
    "    RandomCoincide=vcat(RandomCoincide, Pupu)\n",
    "\n",
    "end\n",
    "\n",
    "writedlm(\"RevueltasCoincidenPureJulia01.dat\", RandomCoincide)"
   ]
  },
  {
   "cell_type": "code",
   "execution_count": 13,
   "metadata": {
    "collapsed": false
   },
   "outputs": [
    {
     "data": {
      "text/plain": [
       "144-element Array{Float64,1}:\n",
       "      1.49153e6\n",
       " 273277.0      \n",
       "      1.98415e6\n",
       "      1.53654e6\n",
       " 189339.0      \n",
       "      1.58989e6\n",
       " 935960.0      \n",
       " 643957.0      \n",
       " 658956.0      \n",
       "      1.74382e6\n",
       " 851744.0      \n",
       "      1.66852e6\n",
       "      2.07116e6\n",
       "      ⋮        \n",
       "  36267.0      \n",
       " 112253.0      \n",
       " 843196.0      \n",
       "      1.31882e6\n",
       "      1.51684e6\n",
       " 717166.0      \n",
       " 737108.0      \n",
       "      1.60809e6\n",
       "      1.48844e6\n",
       "      1.98526e6\n",
       "      1.47174e6\n",
       " 723372.0      "
      ]
     },
     "execution_count": 13,
     "metadata": {},
     "output_type": "execute_result"
    }
   ],
   "source": []
  },
  {
   "cell_type": "code",
   "execution_count": null,
   "metadata": {
    "collapsed": true
   },
   "outputs": [],
   "source": []
  }
 ],
 "metadata": {
  "kernelspec": {
   "display_name": "Julia 0.4.2-pre",
   "language": "julia",
   "name": "julia-0.4"
  },
  "language_info": {
   "file_extension": ".jl",
   "mimetype": "application/julia",
   "name": "julia",
   "version": "0.4.2"
  }
 },
 "nbformat": 4,
 "nbformat_minor": 0
}
