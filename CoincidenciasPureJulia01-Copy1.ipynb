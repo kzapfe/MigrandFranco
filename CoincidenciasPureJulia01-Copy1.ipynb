{
 "cells": [
  {
   "cell_type": "markdown",
   "metadata": {
    "collapsed": true
   },
   "source": [
    "Esta cosa debería de tomar dos archivos, una sucesión de tiempos del GD y otra del CA, y checar coincidencias. Usemos Julia solamente y tratemos de paralelizar."
   ]
  },
  {
   "cell_type": "code",
   "execution_count": 14,
   "metadata": {
    "collapsed": false
   },
   "outputs": [],
   "source": [
    "using JLD"
   ]
  },
  {
   "cell_type": "code",
   "execution_count": 2,
   "metadata": {
    "collapsed": false
   },
   "outputs": [],
   "source": [
    "ListaCA=readdir(\"./MuchasEspigas/CA3/\");\n",
    "ListaGD=readdir(\"./MuchasEspigas/DG/\");"
   ]
  },
  {
   "cell_type": "code",
   "execution_count": 3,
   "metadata": {
    "collapsed": false
   },
   "outputs": [
    {
     "data": {
      "text/plain": [
       "Dict{Any,Any} with 0 entries"
      ]
     },
     "execution_count": 3,
     "metadata": {},
     "output_type": "execute_result"
    }
   ],
   "source": [
    "EntradasYValores=Dict{Any,Any}()\n",
    "Randomizados=Dict{Any,Any}()"
   ]
  },
  {
   "cell_type": "code",
   "execution_count": 4,
   "metadata": {
    "collapsed": false
   },
   "outputs": [],
   "source": [
    "ejemploCA=readdlm(\"./DatosEnero2016/CA3/Ch31_46.txt\");\n",
    "ejemploGD=readdlm(\"./DatosEnero2016/DG/Ch24_27.txt\");"
   ]
  },
  {
   "cell_type": "code",
   "execution_count": 5,
   "metadata": {
    "collapsed": false
   },
   "outputs": [
    {
     "data": {
      "text/plain": [
       "CoincidenGDaCA (generic function with 1 method)"
      ]
     },
     "execution_count": 5,
     "metadata": {},
     "output_type": "execute_result"
    }
   ],
   "source": [
    "function CoincidenGDaCA(GD::Array, CA::Array)\n",
    "    cuantosCA=length(CA)\n",
    "    cuantosGD=length(GD)\n",
    "    #Unidades en frames, son 1/7022 de segundo\n",
    "    desde=13\n",
    "    hasta=71\n",
    "    coinciden::Int64=0\n",
    "    \n",
    "\n",
    "    j=1\n",
    "    \n",
    "    while j<cuantosGD\n",
    "       \n",
    "        k=1\n",
    "\n",
    "        while k<cuantosCA\n",
    "            dift=(CA[k]-GD[j])           \n",
    "            if desde<dift<hasta\n",
    "                coinciden+=1\n",
    "            elseif dift>hasta\n",
    "                break\n",
    "            end\n",
    "            k+=1        \n",
    "        end\n",
    "        j+=1       \n",
    "    end\n",
    "    \n",
    "    return coinciden\n",
    "end"
   ]
  },
  {
   "cell_type": "code",
   "execution_count": 6,
   "metadata": {
    "collapsed": false
   },
   "outputs": [
    {
     "data": {
      "text/plain": [
       "1"
      ]
     },
     "execution_count": 6,
     "metadata": {},
     "output_type": "execute_result"
    }
   ],
   "source": [
    "CoincidenGDaCA(ejemploGD,ejemploCA)"
   ]
  },
  {
   "cell_type": "code",
   "execution_count": 7,
   "metadata": {
    "collapsed": false
   },
   "outputs": [
    {
     "name": "stdout",
     "output_type": "stream",
     "text": [
      " 57.372214 seconds (170.21 M allocations: 42.753 GB, 3.54% gc time)\n"
     ]
    }
   ],
   "source": [
    "CoincidenciasCausales=Array(Int, 1,7)\n",
    "Pupu=Int32[]\n",
    "laregexp=r\"([0-9]{2})_([0-9]{2})\"\n",
    "@time for k in ListaCA, j in ListaGD\n",
    "    ejemploCA=readdlm(\"./MuchasEspigas/CA3/$k\")\n",
    "    ejemploGD=readdlm(\"./MuchasEspigas/DG/$j\")  \n",
    "    \n",
    "    parapa=match(laregexp, k)\n",
    "    perepe=match(laregexp,j)\n",
    "    #println(typeof(parapa), parapa,k,j)\n",
    "    \n",
    "    parteCA=[parse(Int64,s) for s=parapa.captures ]  \n",
    "    parteGD=[parse(Int64,z) for z=perepe.captures ]\n",
    "    \n",
    "    cuantos=CoincidenGDaCA(ejemploGD,ejemploCA)\n",
    "    \n",
    "    Pupu=[parteGD; parteCA; [cuantos; length(ejemploGD); length(ejemploCA)]]'\n",
    "    CoincidenciasCausales=vcat(CoincidenciasCausales, Pupu)\n",
    "    \n",
    "end\n",
    "\n",
    "CoincidenciasCausales=CoincidenciasCausales[2:end,:];\n"
   ]
  },
  {
   "cell_type": "code",
   "execution_count": 8,
   "metadata": {
    "collapsed": false
   },
   "outputs": [],
   "source": [
    "writedlm(\"MuchasEspigas/CoincidenciasCausales01.dat\", CoincidenciasCausales);"
   ]
  },
  {
   "cell_type": "code",
   "execution_count": 9,
   "metadata": {
    "collapsed": false
   },
   "outputs": [
    {
     "data": {
      "text/plain": [
       "(0,523)"
      ]
     },
     "execution_count": 9,
     "metadata": {},
     "output_type": "execute_result"
    }
   ],
   "source": [
    "extrema(CoincidenciasCausales[:,5])"
   ]
  },
  {
   "cell_type": "code",
   "execution_count": 10,
   "metadata": {
    "collapsed": false
   },
   "outputs": [
    {
     "data": {
      "text/plain": [
       "tiempodeintervalos (generic function with 1 method)"
      ]
     },
     "execution_count": 10,
     "metadata": {},
     "output_type": "execute_result"
    }
   ],
   "source": [
    "function sacaintervalos(xxs::Array)\n",
    "    result=zeros(xxs)\n",
    "    result[1]=xxs[1]\n",
    "    for j=2:length(xxs)\n",
    "        result[j]=xxs[j]-xxs[j-1]\n",
    "    end\n",
    "    return result\n",
    "end\n",
    "\n",
    "function tiempodeintervalos(xxs::Array)\n",
    "    largo=length(xxs)\n",
    "    result=zeros(largo)\n",
    "    result[1]=xxs[1]\n",
    "    for j=1:largo-1\n",
    "        result[j+1]=result[j]+xxs[j+1]\n",
    "    end\n",
    "    return result\n",
    "end\n",
    "    "
   ]
  },
  {
   "cell_type": "code",
   "execution_count": null,
   "metadata": {
    "collapsed": false
   },
   "outputs": [],
   "source": [
    "RandomCoincide=zeros(Float32, 1,7)\n",
    "Pupu=Float32[]\n",
    "cuantasveces=3000\n",
    "promcoincide=0\n",
    "HistoGramasTotales=Dict{Array{Int}, Array}()\n",
    "@time for k in ListaCA, j in ListaGD\n",
    "    \n",
    "    ejemploCA=readdlm(\"./MuchasEspigas/CA3/$k\")\n",
    "    ejemploGD=readdlm(\"./MuchasEspigas/DG/$j\")\n",
    "    \n",
    "    parapa=match(laregexp,k)\n",
    "    perepe=match(laregexp,j)\n",
    "    \n",
    "    parteCA=[parse(Int64,s) for s=parapa.captures ]\n",
    "    parteGD=[parse(Int64,s) for s=perepe.captures ]\n",
    "        \n",
    "    intervalosGD=sacaintervalos(vec(ejemploGD))\n",
    "    intervalosCA=sacaintervalos(vec(ejemploCA))\n",
    "    HastaDonde=300\n",
    "    \n",
    "    HistoGramasTotales[[parteGD ; parteCA]]=zeros(Int,HastaDonde)\n",
    "    \n",
    "    \n",
    "    for t in 1:cuantasveces\n",
    "        shuffle!(intervalosGD)\n",
    "        shuffle!(intervalosCA)\n",
    "        novoCA=tiempodeintervalos(intervalosCA)\n",
    "        novoGD=tiempodeintervalos(intervalosGD)\n",
    "        \n",
    "        coincidencias=CoincidenGDaCA(novoGD, novoCA)\n",
    "        if coincidencias<HastaDonde\n",
    "        HistoGramasTotales[[parteGD ; parteCA]][coincidencias+1]+=1\n",
    "        end\n",
    "        promcoincide+=coincidencias\n",
    "        \n",
    "    end\n",
    "    \n",
    "    promcoincide/=cuantasveces\n",
    "    Pupu=[parteGD; parteCA; [promcoincide; length(ejemploGD); length(ejemploCA)]]'\n",
    "    RandomCoincide=vcat(RandomCoincide, Pupu)\n",
    "\n",
    "end\n",
    "RandomCoincide=RandomCoincide[2:end]\n",
    "\n",
    "writedlm(\"RevueltasCoincidenPureJulia01.dat\", RandomCoincide)\n",
    "\n",
    "save(\"MuchasEspigas/HistogramasMuchasEspigasShuffle04.jld\", \"HistogramasTotales\", HistoGramasTotales)"
   ]
  },
  {
   "cell_type": "code",
   "execution_count": 16,
   "metadata": {
    "collapsed": false
   },
   "outputs": [],
   "source": [
    "save(\"MuchasEspigas/HistogramasMuchasEspigasShuffle03.jld\", \"HistogramasTotales\", HistoGramasTotales)"
   ]
  },
  {
   "cell_type": "code",
   "execution_count": 15,
   "metadata": {
    "collapsed": false
   },
   "outputs": [
    {
     "name": "stdout",
     "output_type": "stream",
     "text": [
      "search: save @save sparsevec SharedVector StackOverflowError AbstractVector\n",
      "\n"
     ]
    },
    {
     "data": {
      "text/latex": [
       "\\begin{itemize}\n",
       "\\item \\texttt{save(filename, data...)} saves the contents of a formatted file, trying to infer the format from \\texttt{filename}.\n",
       "\\item \\texttt{save(Stream(format\"PNG\",io), data...)} specifies the format directly, and bypasses inference.\n",
       "\\item \\texttt{save(f, data...; options...)} passes keyword arguments on to the saver.\n",
       "\\end{itemize}\n"
      ],
      "text/markdown": [
       "  * `save(filename, data...)` saves the contents of a formatted file, trying to infer the format from `filename`.\n",
       "  * `save(Stream(format\"PNG\",io), data...)` specifies the format directly, and bypasses inference.\n",
       "  * `save(f, data...; options...)` passes keyword arguments on to the saver.\n"
      ],
      "text/plain": [
       "  * `save(filename, data...)` saves the contents of a formatted file, trying to infer the format from `filename`.\n",
       "  * `save(Stream(format\"PNG\",io), data...)` specifies the format directly, and bypasses inference.\n",
       "  * `save(f, data...; options...)` passes keyword arguments on to the saver.\n"
      ]
     },
     "execution_count": 15,
     "metadata": {},
     "output_type": "execute_result"
    }
   ],
   "source": [
    "?save"
   ]
  },
  {
   "cell_type": "code",
   "execution_count": null,
   "metadata": {
    "collapsed": true
   },
   "outputs": [],
   "source": []
  }
 ],
 "metadata": {
  "kernelspec": {
   "display_name": "Julia 0.4.2-pre",
   "language": "julia",
   "name": "julia-0.4"
  },
  "language_info": {
   "file_extension": ".jl",
   "mimetype": "application/julia",
   "name": "julia",
   "version": "0.4.2"
  }
 },
 "nbformat": 4,
 "nbformat_minor": 0
}
