{
 "cells": [
  {
   "cell_type": "markdown",
   "metadata": {
    "collapsed": true
   },
   "source": [
    "Esta cosa debería de tomar dos archivos, una sucesión de tiempos del GD y otra del CA, y checar coincidencias. Usemos Julia solamente y tratemos de paralelizar."
   ]
  },
  {
   "cell_type": "code",
   "execution_count": 1,
   "metadata": {
    "collapsed": false
   },
   "outputs": [],
   "source": [
    "# using HDF5, JLD"
   ]
  },
  {
   "cell_type": "code",
   "execution_count": 1,
   "metadata": {
    "collapsed": false
   },
   "outputs": [],
   "source": [
    "ListaCA=readdir(\"./DatosEnero2016/espigas/CA3/\");\n",
    "ListaGD=readdir(\"./DatosEnero2016/espigas/DG/\");"
   ]
  },
  {
   "cell_type": "code",
   "execution_count": 2,
   "metadata": {
    "collapsed": false
   },
   "outputs": [
    {
     "data": {
      "text/plain": [
       "Dict{Any,Any} with 0 entries"
      ]
     },
     "execution_count": 2,
     "metadata": {},
     "output_type": "execute_result"
    }
   ],
   "source": [
    "EntradasYValores=Dict{Any,Any}()\n",
    "Randomizados=Dict{Any,Any}()"
   ]
  },
  {
   "cell_type": "code",
   "execution_count": 3,
   "metadata": {
    "collapsed": false
   },
   "outputs": [],
   "source": [
    "ejemploCA=readdlm(\"./DatosEnero2016/CA3/Ch31_46.txt\");\n",
    "ejemploGD=readdlm(\"./DatosEnero2016/DG/Ch24_27.txt\");"
   ]
  },
  {
   "cell_type": "code",
   "execution_count": 7,
   "metadata": {
    "collapsed": false
   },
   "outputs": [
    {
     "data": {
      "text/plain": [
       "CoincidenGDaCA (generic function with 1 method)"
      ]
     },
     "execution_count": 7,
     "metadata": {},
     "output_type": "execute_result"
    }
   ],
   "source": [
    "function CoincidenGDaCA(GD::Array, CA::Array)\n",
    "    cuantosCA=length(CA)\n",
    "    cuantosGD=length(GD)\n",
    "    #Unidades en frames, son 1/7022 de segundo\n",
    "    desde=13\n",
    "    hasta=71\n",
    "    coinciden::Int64=0\n",
    "    \n",
    "\n",
    "    j=1\n",
    "    \n",
    "    while j<cuantosGD\n",
    "       \n",
    "        k=1\n",
    "\n",
    "        while k<cuantosCA\n",
    "            dift=(CA[k]-GD[j])           \n",
    "            if desde<dift<hasta\n",
    "                coinciden+=1\n",
    "            elseif dift>hasta\n",
    "                break\n",
    "            end\n",
    "            k+=1        \n",
    "        end\n",
    "        j+=1       \n",
    "    end\n",
    "    \n",
    "    return coinciden\n",
    "end"
   ]
  },
  {
   "cell_type": "code",
   "execution_count": 8,
   "metadata": {
    "collapsed": false
   },
   "outputs": [
    {
     "data": {
      "text/plain": [
       "1"
      ]
     },
     "execution_count": 8,
     "metadata": {},
     "output_type": "execute_result"
    }
   ],
   "source": [
    "CoincidenGDaCA(ejemploGD,ejemploCA)"
   ]
  },
  {
   "cell_type": "code",
   "execution_count": 9,
   "metadata": {
    "collapsed": false
   },
   "outputs": [
    {
     "name": "stdout",
     "output_type": "stream",
     "text": [
      "  5.217738 seconds (7.48 M allocations: 7.813 GB, 7.48% gc time)\n"
     ]
    }
   ],
   "source": [
    "CoincidenciasCausales=Array(Int, 1,7)\n",
    "Pupu=Int32[]\n",
    "laregexp=r\"([0-9]{2})_([0-9]{2})\"\n",
    "@time for k in ListaCA, j in ListaGD\n",
    "    ejemploCA=readdlm(\"./DatosEnero2016/espigas/CA3/$k\")\n",
    "    ejemploGD=readdlm(\"./DatosEnero2016/espigas/DG/$j\")  \n",
    "    \n",
    "    parapa=match(laregexp, k)\n",
    "    perepe=match(laregexp,j)\n",
    "    #println(typeof(parapa), parapa,k,j)\n",
    "    \n",
    "    parteCA=[parse(Int64,s) for s=parapa.captures ]  \n",
    "    parteGD=[parse(Int64,z) for z=perepe.captures ]\n",
    "    \n",
    "    cuantos=CoincidenGDaCA(ejemploGD,ejemploCA)\n",
    "    \n",
    "    Pupu=[parteGD; parteCA; [cuantos; length(ejemploGD); length(ejemploCA)]]'\n",
    "    CoincidenciasCausales=vcat(CoincidenciasCausales, Pupu)\n",
    "    \n",
    "end\n",
    "\n",
    "CoincidenciasCausales=CoincidenciasCausales[2:end,:];\n"
   ]
  },
  {
   "cell_type": "code",
   "execution_count": 10,
   "metadata": {
    "collapsed": false
   },
   "outputs": [],
   "source": [
    "writedlm(\"CoincidenciasPseudoRealesPureJulia01.dat\", CoincidenciasCausales)"
   ]
  },
  {
   "cell_type": "code",
   "execution_count": 11,
   "metadata": {
    "collapsed": false
   },
   "outputs": [
    {
     "data": {
      "text/plain": [
       "9021"
      ]
     },
     "execution_count": 11,
     "metadata": {},
     "output_type": "execute_result"
    }
   ],
   "source": [
    "sum(CoincidenciasCausales[:,5])"
   ]
  },
  {
   "cell_type": "code",
   "execution_count": 36,
   "metadata": {
    "collapsed": false
   },
   "outputs": [
    {
     "data": {
      "text/plain": [
       "(0,9)"
      ]
     },
     "execution_count": 36,
     "metadata": {},
     "output_type": "execute_result"
    }
   ],
   "source": [
    "extrema(CoincidenciasCausales[:,5])"
   ]
  },
  {
   "cell_type": "code",
   "execution_count": 31,
   "metadata": {
    "collapsed": false
   },
   "outputs": [
    {
     "data": {
      "text/plain": [
       "tiempodeintervalos (generic function with 1 method)"
      ]
     },
     "execution_count": 31,
     "metadata": {},
     "output_type": "execute_result"
    }
   ],
   "source": [
    "function sacaintervalos(xxs::Array)\n",
    "    result=zeros(xxs)\n",
    "    result[1]=xxs[1]\n",
    "    for j=2:length(xxs)\n",
    "        result[j]=xxs[j]-xxs[j-1]\n",
    "    end\n",
    "    return result\n",
    "end\n",
    "\n",
    "function tiempodeintervalos(xxs::Array)\n",
    "    largo=length(xxs)\n",
    "    result=zeros(largo)\n",
    "    result[1]=xxs[1]\n",
    "    for j=1:largo-1\n",
    "        result[j+1]=result[j]+xxs[j+1]\n",
    "    end\n",
    "    return result\n",
    "end\n",
    "    "
   ]
  },
  {
   "cell_type": "code",
   "execution_count": 51,
   "metadata": {
    "collapsed": false
   },
   "outputs": [
    {
     "name": "stdout",
     "output_type": "stream",
     "text": [
      "  6.940165 seconds (7.88 M allocations: 7.977 GB, 9.63% gc time)\n"
     ]
    }
   ],
   "source": [
    "RandomCoincide=zeros(Float32, 1,7)\n",
    "Pupu=Float32[]\n",
    "cuantasveces=10000\n",
    "promcoincide=0\n",
    "HistoGramasTotales=Dict{Array{Int}, Array}()\n",
    "@time for k in ListaCA, j in ListaGD\n",
    "    \n",
    "    ejemploCA=readdlm(\"./DatosEnero2016/CA3/$k\")\n",
    "    ejemploGD=readdlm(\"./DatosEnero2016/DG/$j\")\n",
    "    \n",
    "    parapa=match(laregexp,k)\n",
    "    perepe=match(laregexp,j)\n",
    "    \n",
    "    parteCA=[parse(Int64,s) for s=parapa.captures ]\n",
    "    parteGD=[parse(Int64,s) for s=perepe.captures ]\n",
    "        \n",
    "    intervalosGD=sacaintervalos(vec(ejemploGD))\n",
    "    intervalosCA=sacaintervalos(vec(ejemploCA))\n",
    "    \n",
    "    HistoGramasTotales[[parteGD ; parteCA]]=zeros(Int,50)\n",
    "    \n",
    "    for t in 1:cuantasveces\n",
    "        shuffle!(intervalosGD)\n",
    "        shuffle!(intervalosCA)\n",
    "        novoCA=tiempodeintervalos(intervalosCA)\n",
    "        novoGD=tiempodeintervalos(intervalosGD)\n",
    "        \n",
    "        coincidencias=CoincidenGDaCA(novoGD, novoCA)\n",
    "        if coincidencias<50\n",
    "        HistoGramasTotales[[parteGD ; parteCA]][coincidencias+1]+=1\n",
    "        end\n",
    "        promcoincide+=coincidencias\n",
    "        \n",
    "    end\n",
    "    \n",
    "    promcoincide/=cuantasveces\n",
    "    Pupu=[parteGD; parteCA; [promcoincide; length(ejemploGD); length(ejemploCA)]]'\n",
    "    RandomCoincide=vcat(RandomCoincide, Pupu)\n",
    "\n",
    "end\n",
    "RandomCoincide=RandomCoincide[2:end]\n",
    "\n",
    "writedlm(\"RevueltasCoincidenPureJulia01.dat\", RandomCoincide)"
   ]
  },
  {
   "cell_type": "code",
   "execution_count": 52,
   "metadata": {
    "collapsed": false
   },
   "outputs": [
    {
     "data": {
      "text/plain": [
       "Dict{Array{Int64,N},Array{T,N}} with 15652 entries:\n",
       "  [50,15,34,55] => [1,2,0,0,0,0,0,0,0,0  …  0,0,0,0,0,0,0,0,0,0]\n",
       "  [30,13,45,29] => [2,1,0,0,0,0,0,0,0,0  …  0,0,0,0,0,0,0,0,0,0]\n",
       "  [48,7,34,46]  => [3,0,0,0,0,0,0,0,0,0  …  0,0,0,0,0,0,0,0,0,0]\n",
       "  [26,32,41,41] => [1,2,0,0,0,0,0,0,0,0  …  0,0,0,0,0,0,0,0,0,0]\n",
       "  [50,16,34,48] => [2,1,0,0,0,0,0,0,0,0  …  0,0,0,0,0,0,0,0,0,0]\n",
       "  [26,27,31,54] => [2,1,0,0,0,0,0,0,0,0  …  0,0,0,0,0,0,0,0,0,0]\n",
       "  [51,17,34,57] => [2,1,0,0,0,0,0,0,0,0  …  0,0,0,0,0,0,0,0,0,0]\n",
       "  [49,9,36,47]  => [2,1,0,0,0,0,0,0,0,0  …  0,0,0,0,0,0,0,0,0,0]\n",
       "  [33,12,37,29] => [1,2,0,0,0,0,0,0,0,0  …  0,0,0,0,0,0,0,0,0,0]\n",
       "  [38,11,46,35] => [1,0,1,1,0,0,0,0,0,0  …  0,0,0,0,0,0,0,0,0,0]\n",
       "  [50,12,34,50] => [2,0,1,0,0,0,0,0,0,0  …  0,0,0,0,0,0,0,0,0,0]\n",
       "  [50,17,51,36] => [2,1,0,0,0,0,0,0,0,0  …  0,0,0,0,0,0,0,0,0,0]\n",
       "  [27,31,31,52] => [0,2,1,0,0,0,0,0,0,0  …  0,0,0,0,0,0,0,0,0,0]\n",
       "  [24,24,38,54] => [2,1,0,0,0,0,0,0,0,0  …  0,0,0,0,0,0,0,0,0,0]\n",
       "  [37,10,42,43] => [3,0,0,0,0,0,0,0,0,0  …  0,0,0,0,0,0,0,0,0,0]\n",
       "  [50,9,47,27]  => [3,0,0,0,0,0,0,0,0,0  …  0,0,0,0,0,0,0,0,0,0]\n",
       "  [32,12,37,42] => [2,0,1,0,0,0,0,0,0,0  …  0,0,0,0,0,0,0,0,0,0]\n",
       "  [45,9,32,52]  => [3,0,0,0,0,0,0,0,0,0  …  0,0,0,0,0,0,0,0,0,0]\n",
       "  [50,9,31,51]  => [1,2,0,0,0,0,0,0,0,0  …  0,0,0,0,0,0,0,0,0,0]\n",
       "  [52,18,43,38] => [1,1,1,0,0,0,0,0,0,0  …  0,0,0,0,0,0,0,0,0,0]\n",
       "  [51,12,45,29] => [3,0,0,0,0,0,0,0,0,0  …  0,0,0,0,0,0,0,0,0,0]\n",
       "  [47,9,31,51]  => [3,0,0,0,0,0,0,0,0,0  …  0,0,0,0,0,0,0,0,0,0]\n",
       "  [32,12,36,43] => [1,2,0,0,0,0,0,0,0,0  …  0,0,0,0,0,0,0,0,0,0]\n",
       "  [30,13,39,28] => [2,1,0,0,0,0,0,0,0,0  …  0,0,0,0,0,0,0,0,0,0]\n",
       "  [40,9,34,44]  => [3,0,0,0,0,0,0,0,0,0  …  0,0,0,0,0,0,0,0,0,0]\n",
       "  ⋮             => ⋮"
      ]
     },
     "execution_count": 52,
     "metadata": {},
     "output_type": "execute_result"
    }
   ],
   "source": [
    "HistoGramasTotales"
   ]
  },
  {
   "cell_type": "code",
   "execution_count": 44,
   "metadata": {
    "collapsed": false
   },
   "outputs": [
    {
     "data": {
      "text/plain": [
       "50-element Array{Int64,1}:\n",
       " 0\n",
       " 0\n",
       " 0\n",
       " 0\n",
       " 0\n",
       " 0\n",
       " 0\n",
       " 0\n",
       " 0\n",
       " 0\n",
       " 0\n",
       " 0\n",
       " 0\n",
       " ⋮\n",
       " 0\n",
       " 0\n",
       " 0\n",
       " 0\n",
       " 0\n",
       " 0\n",
       " 0\n",
       " 0\n",
       " 0\n",
       " 0\n",
       " 0\n",
       " 0"
      ]
     },
     "execution_count": 44,
     "metadata": {},
     "output_type": "execute_result"
    }
   ],
   "source": [
    "HistoGramasTotales[[10,10]]=zeros(Int, 50)"
   ]
  },
  {
   "cell_type": "code",
   "execution_count": 47,
   "metadata": {
    "collapsed": false
   },
   "outputs": [
    {
     "data": {
      "text/plain": [
       "1"
      ]
     },
     "execution_count": 47,
     "metadata": {},
     "output_type": "execute_result"
    }
   ],
   "source": [
    "HistoGramasTotales[[10,10]][20]=1"
   ]
  },
  {
   "cell_type": "code",
   "execution_count": 48,
   "metadata": {
    "collapsed": false
   },
   "outputs": [
    {
     "data": {
      "text/plain": [
       "Dict{Array{Int64,N},Array{T,N}} with 1 entry:\n",
       "  [10,10] => [0,0,0,0,0,0,0,0,0,0  …  0,0,0,0,0,0,0,0,0,0]"
      ]
     },
     "execution_count": 48,
     "metadata": {},
     "output_type": "execute_result"
    }
   ],
   "source": [
    "HistoGramasTotales"
   ]
  },
  {
   "cell_type": "code",
   "execution_count": null,
   "metadata": {
    "collapsed": true
   },
   "outputs": [],
   "source": []
  }
 ],
 "metadata": {
  "kernelspec": {
   "display_name": "Julia 0.4.2-pre",
   "language": "julia",
   "name": "julia-0.4"
  },
  "language_info": {
   "file_extension": ".jl",
   "mimetype": "application/julia",
   "name": "julia",
   "version": "0.4.2"
  }
 },
 "nbformat": 4,
 "nbformat_minor": 0
}
