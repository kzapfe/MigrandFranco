{
 "cells": [
  {
   "cell_type": "markdown",
   "metadata": {
    "collapsed": true
   },
   "source": [
    "Esta cosa debería de tomar dos archivos, una sucesión de tiempos del GD y otra del CA, y checar coincidencias. Usemos Julia solamente y tratemos de paralelizar."
   ]
  },
  {
   "cell_type": "code",
   "execution_count": 2,
   "metadata": {
    "collapsed": false
   },
   "outputs": [],
   "source": [
    "# using HDF5, JLD"
   ]
  },
  {
   "cell_type": "code",
   "execution_count": 3,
   "metadata": {
    "collapsed": false
   },
   "outputs": [],
   "source": [
    "ListaCA=readdir(\"./Ejemplo01/CA3/\");\n",
    "ListaGD=readdir(\"./Ejemplo01/GD/\");"
   ]
  },
  {
   "cell_type": "code",
   "execution_count": 4,
   "metadata": {
    "collapsed": false
   },
   "outputs": [
    {
     "data": {
      "text/plain": [
       "Dict{Any,Any} with 0 entries"
      ]
     },
     "execution_count": 4,
     "metadata": {},
     "output_type": "execute_result"
    }
   ],
   "source": [
    "EntradasYValores=Dict{Any,Any}()\n",
    "Randomizados=Dict{Any,Any}()"
   ]
  },
  {
   "cell_type": "code",
   "execution_count": 5,
   "metadata": {
    "collapsed": false
   },
   "outputs": [],
   "source": [
    "ejemploCA=readdlm(\"./Ejemplo01/CA3/CA3_Ch44_64.dat\");\n",
    "ejemploGD=readdlm(\"./Ejemplo01/GD/GD_Ch43_06.dat\");"
   ]
  },
  {
   "cell_type": "code",
   "execution_count": 6,
   "metadata": {
    "collapsed": false
   },
   "outputs": [
    {
     "data": {
      "text/plain": [
       "1"
      ]
     },
     "execution_count": 6,
     "metadata": {},
     "output_type": "execute_result"
    }
   ],
   "source": [
    "cuantosCA=length(ejemploCA)\n",
    "cuantosGD=length(ejemploGD)\n",
    "hasta=35\n",
    "desde=14\n",
    "coinciden=0\n",
    "lastcoin=1"
   ]
  },
  {
   "cell_type": "code",
   "execution_count": 7,
   "metadata": {
    "collapsed": false
   },
   "outputs": [
    {
     "data": {
      "text/plain": [
       "CoincidenGDaCA (generic function with 1 method)"
      ]
     },
     "execution_count": 7,
     "metadata": {},
     "output_type": "execute_result"
    }
   ],
   "source": [
    "function CoincidenGDaCA(GD::Array, CA::Array)\n",
    "    cuantosCA=length(CA)\n",
    "    cuantosGD=length(GD)\n",
    "    #Unidades en frames, son 1/7022 de segundo\n",
    "    desde=14\n",
    "    hasta=35\n",
    "    coinciden=0\n",
    "    lastcoin=1\n",
    "    for j in 1:cuantosGD\n",
    "        for k in lastcoin:cuantosCA\n",
    "            if (CA[k]-GD[j]<hasta) && (CA[k]-GD[j]>desde)\n",
    "                coinciden+=1\n",
    "                lastcoin=k+1\n",
    "                break\n",
    "            end\n",
    "        end\n",
    "    end\n",
    "    return coinciden\n",
    "end"
   ]
  },
  {
   "cell_type": "code",
   "execution_count": 8,
   "metadata": {
    "collapsed": false
   },
   "outputs": [
    {
     "ename": "LoadError",
     "evalue": "parteCA not defined\nwhile loading In[8], in expression starting on line 1",
     "output_type": "error",
     "traceback": [
      "parteCA not defined\nwhile loading In[8], in expression starting on line 1",
      ""
     ]
    }
   ],
   "source": [
    "typeof(parteCA)"
   ]
  },
  {
   "cell_type": "code",
   "execution_count": 9,
   "metadata": {
    "collapsed": false
   },
   "outputs": [
    {
     "name": "stdout",
     "output_type": "stream",
     "text": [
      "elapsed time: 12.110889489 seconds (4894664900 bytes allocated, 16.95% gc time)\n"
     ]
    }
   ],
   "source": [
    "CoincidenciasCausales=Array(Int, 1,7)\n",
    "Pupu=Int32[]\n",
    "laregexp=r\"([0-9]{2})_([0-9]{2})\"\n",
    "@time for k in ListaCA, j in ListaGD\n",
    "    ejemploCA=readdlm(\"./Ejemplo01/CA3/$k\")\n",
    "    ejemploGD=readdlm(\"./Ejemplo01/GD/$j\")  \n",
    "    parapa=match(laregexp, k)\n",
    "    perepe=match(laregexp,j)\n",
    "    parteCA=int(parapa.captures)\n",
    "    parteGD=int(perepe.captures)\n",
    "    cuantos=CoincidenGDaCA(ejemploGD,ejemploCA)\n",
    "    Pupu=[parteGD, parteCA, [cuantos, length(ejemploGD), length(ejemploCA)]]'\n",
    "    CoincidenciasCausales=vcat(CoincidenciasCausales, Pupu)\n",
    "end\n"
   ]
  },
  {
   "cell_type": "code",
   "execution_count": 10,
   "metadata": {
    "collapsed": false
   },
   "outputs": [],
   "source": [
    "writedlm(\"CoincidenciasPseudoRealesPureJulia01.dat\", CoincidenciasCausales)"
   ]
  },
  {
   "cell_type": "code",
   "execution_count": 11,
   "metadata": {
    "collapsed": false
   },
   "outputs": [
    {
     "name": "stdout",
     "output_type": "stream",
     "text": [
      "elapsed time: 4315.412618936 seconds (5461612380 bytes allocated, 0.05% gc time)\n"
     ]
    }
   ],
   "source": [
    "RandomCoincide=zeros(Float32, 1,7)\n",
    "Pupu=Float32[]\n",
    "cuantasveces=1000\n",
    "promcoincide=0\n",
    "@time for k in ListaCA, j in ListaGD\n",
    "    ejemploCA=readdlm(\"./Ejemplo01/CA3/$k\")\n",
    "    ejemploGD=readdlm(\"./Ejemplo01/GD/$j\")\n",
    "    parapa=match(laregexp,k)\n",
    "    perepe=match(laregexp,j)\n",
    "    parteCA=int(parapa.captures)\n",
    "    parteGD=int(perepe.captures)\n",
    "    GDrev=vec(ejemploGD)\n",
    "    CArev=vec(ejemploCA)\n",
    "    for t in 1:cuantasveces\n",
    "        shuffle!(GDrev)\n",
    "        shuffle!(CArev)\n",
    "        promcoincidede+=CoincidenGDaCA(GDrev, CArev)\n",
    "    end\n",
    "    promcoincide/=cuantasveces\n",
    "    Pupu=[parteGD, parteCA, [promcoincide, length(GDrev), length(CArev)]]'\n",
    "    RandomCoincide=vcat(RandomCoincide, Pupu)\n",
    "end\n",
    "writedlm(\"RevueltasCoincidenPureJulia01.dat\", RandomCoincide)"
   ]
  },
  {
   "cell_type": "code",
   "execution_count": null,
   "metadata": {
    "collapsed": true
   },
   "outputs": [],
   "source": []
  }
 ],
 "metadata": {
  "kernelspec": {
   "display_name": "Julia 0.3.7-pre",
   "language": "julia",
   "name": "julia-0.3"
  },
  "language_info": {
   "name": "julia",
   "version": "0.3.7"
  }
 },
 "nbformat": 4,
 "nbformat_minor": 0
}
