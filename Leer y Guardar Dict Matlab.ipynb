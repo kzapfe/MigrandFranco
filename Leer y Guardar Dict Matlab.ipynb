{
 "cells": [
  {
   "cell_type": "code",
   "execution_count": 1,
   "metadata": {
    "collapsed": true
   },
   "outputs": [],
   "source": [
    "using MAT"
   ]
  },
  {
   "cell_type": "code",
   "execution_count": 4,
   "metadata": {
    "collapsed": false
   },
   "outputs": [
    {
     "data": {
      "text/plain": [
       "MAT_v5.Matlabv5File(IOStream(<file espigas.mat>),false,#undef)"
      ]
     },
     "execution_count": 4,
     "metadata": {},
     "output_type": "execute_result"
    }
   ],
   "source": [
    "turur=matopen(\"espigas.mat\")"
   ]
  },
  {
   "cell_type": "code",
   "execution_count": 5,
   "metadata": {
    "collapsed": false
   },
   "outputs": [
    {
     "data": {
      "text/plain": [
       "Dict{ASCIIString,Any} with 4 entries:\n",
       "  \"etiquetas_canales_DG\"  => 46x1 Array{Any,2}:…\n",
       "  \"etiquetas_canales_CA3\" => 204x1 Array{Any,2}:…\n",
       "  \"espigas_CA3\"           => Dict{ASCIIString,Any}(\"Ch61_37\"=>1x1 Array{Any,2}:…\n",
       "  \"espigas_DG\"            => Dict{ASCIIString,Any}(\"Ch31_17\"=>1x1 Array{Any,2}:…"
      ]
     },
     "execution_count": 5,
     "metadata": {},
     "output_type": "execute_result"
    }
   ],
   "source": [
    "read(turur)"
   ]
  },
  {
   "cell_type": "code",
   "execution_count": 41,
   "metadata": {
    "collapsed": false
   },
   "outputs": [],
   "source": [
    "CA3Dict=read(turur, \"espigas_CA3\");"
   ]
  },
  {
   "cell_type": "code",
   "execution_count": 46,
   "metadata": {
    "collapsed": false
   },
   "outputs": [
    {
     "data": {
      "text/plain": [
       "Dict{ASCIIString,Any} with 46 entries:\n",
       "  \"Ch31_17\" => 1x1 Array{Any,2}:…\n",
       "  \"Ch53_09\" => 1x1 Array{Any,2}:…\n",
       "  \"Ch43_05\" => 1x1 Array{Any,2}:…\n",
       "  \"Ch41_04\" => 1x1 Array{Any,2}:…\n",
       "  \"Ch32_32\" => 1x1 Array{Any,2}:…\n",
       "  \"Ch29_05\" => 1x1 Array{Any,2}:…\n",
       "  \"Ch35_04\" => 1x1 Array{Any,2}:…\n",
       "  \"Ch37_33\" => 1x1 Array{Any,2}:…\n",
       "  \"Ch30_18\" => 1x1 Array{Any,2}:…\n",
       "  \"Ch33_15\" => 1x1 Array{Any,2}:…\n",
       "  \"Ch62_10\" => 1x1 Array{Any,2}:…\n",
       "  \"Ch28_08\" => 1x1 Array{Any,2}:…\n",
       "  \"Ch32_12\" => 1x1 Array{Any,2}:…\n",
       "  \"Ch32_21\" => 1x1 Array{Any,2}:…\n",
       "  \"Ch59_11\" => 1x1 Array{Any,2}:…\n",
       "  \"Ch36_05\" => 1x1 Array{Any,2}:…\n",
       "  \"Ch40_32\" => 1x1 Array{Any,2}:…\n",
       "  \"Ch36_30\" => 1x1 Array{Any,2}:…\n",
       "  \"Ch42_04\" => 1x1 Array{Any,2}:…\n",
       "  \"Ch39_35\" => 1x1 Array{Any,2}:…\n",
       "  \"Ch34_31\" => 1x1 Array{Any,2}:…\n",
       "  \"Ch35_11\" => 1x1 Array{Any,2}:…\n",
       "  \"Ch28_13\" => 1x1 Array{Any,2}:…\n",
       "  \"Ch32_17\" => 1x1 Array{Any,2}:…\n",
       "  \"Ch26_24\" => 1x1 Array{Any,2}:…\n",
       "  ⋮         => ⋮"
      ]
     },
     "execution_count": 46,
     "metadata": {},
     "output_type": "execute_result"
    }
   ],
   "source": [
    "GDDict=read(turur, \"espigas_DG\")"
   ]
  },
  {
   "cell_type": "code",
   "execution_count": 20,
   "metadata": {
    "collapsed": false
   },
   "outputs": [
    {
     "data": {
      "text/plain": [
       "3219-element Array{Int32,1}:\n",
       "    1018\n",
       "    1058\n",
       "    1107\n",
       "    4467\n",
       "    4509\n",
       "    5932\n",
       "    5966\n",
       "    6008\n",
       "    8692\n",
       "   10961\n",
       "   11113\n",
       "   11653\n",
       "   13206\n",
       "       ⋮\n",
       " 6303723\n",
       " 6303761\n",
       " 6304302\n",
       " 6306307\n",
       " 6306363\n",
       " 6306399\n",
       " 6306440\n",
       " 6306478\n",
       " 6306530\n",
       " 6311294\n",
       " 6317056\n",
       " 6317093"
      ]
     },
     "execution_count": 20,
     "metadata": {},
     "output_type": "execute_result"
    }
   ],
   "source": [
    "Cuac=floor(Int32, reshape(CA3Dict[\"Ch61_37\"][1],3219))"
   ]
  },
  {
   "cell_type": "code",
   "execution_count": null,
   "metadata": {
    "collapsed": true
   },
   "outputs": [],
   "source": []
  },
  {
   "cell_type": "code",
   "execution_count": 39,
   "metadata": {
    "collapsed": false
   },
   "outputs": [],
   "source": [
    "for key in keys(CA3Dict)\n",
    "    a=\"CA3_$key.dat\"\n",
    "    #un desmadrito con el dictionary de matlab, eh?\n",
    "    #checa, es tu segunda size de cada primera entrada...\n",
    "    datox=CA3Dict[key][1]\n",
    "    largo=size(datox)[2]\n",
    "    datox=floor(Int32, reshape(datox, largo))\n",
    "    writedlm(a, datox)\n",
    "end"
   ]
  },
  {
   "cell_type": "code",
   "execution_count": 80,
   "metadata": {
    "collapsed": false
   },
   "outputs": [
    {
     "name": "stdout",
     "output_type": "stream",
     "text": [
      "ai vamos Ch31_17\n",
      "ai vamos Ch53_09\n",
      "ai vamos Ch43_05\n",
      "ai vamos Ch41_04\n",
      "ai vamos Ch32_32\n",
      "ai vamos Ch29_05\n",
      "ai vamos Ch35_04\n",
      "ai vamos Ch37_33\n",
      "ai vamos Ch30_18\n",
      "ai vamos Ch33_15\n",
      "ai vamos Ch62_10\n",
      "ai vamos Ch28_08\n",
      "ai vamos Ch32_12\n",
      "ai vamos Ch32_21\n",
      "ai vamos Ch59_11\n",
      "ai vamos Ch36_05\n",
      "ai vamos Ch40_32\n",
      "ai vamos Ch36_30\n",
      "ai vamos Ch42_04\n",
      "ai vamos Ch39_35\n",
      "ai vamos Ch34_31\n",
      "ai vamos Ch35_11\n",
      "ai vamos Ch28_13\n",
      "ai vamos Ch32_17\n",
      "ai vamos Ch26_24\n",
      "ai vamos Ch55_06\n",
      "ai vamos Ch32_09\n",
      "ai vamos Ch35_14\n",
      "ai vamos Ch49_09\n",
      "ai vamos Ch31_11\n",
      "ai vamos Ch27_14\n",
      "ai vamos Ch28_23\n",
      "ai vamos Ch35_12\n",
      "ai vamos Ch48_02\n",
      "ai vamos Ch43_06\n",
      "ai vamos Ch34_01\n",
      "ai vamos Ch34_34\n",
      "ai vamos Ch34_25\n",
      "ai vamos Ch57_10\n",
      "ai vamos Ch36_02\n",
      "ai vamos Ch50_02\n",
      "ai vamos Ch49_08\n",
      "ai vamos Ch36_07\n",
      "ai vamos Ch52_08\n",
      "ai vamos Ch57_12\n",
      "ai vamos Ch55_10\n"
     ]
    }
   ],
   "source": [
    "for key in keys(GDDict)\n",
    "    a=\"GD_$key.dat\"\n",
    "    #un desmadrito con el dictionary de matlab, eh?\n",
    "    #checa, es tu segunda size de cada primera entrada...\n",
    "    println(\"ai vamos \",key)\n",
    "    datox=GDDict[key][1]\n",
    "    if(!isempty(datox) && length(datox)>1)\n",
    "        #Matlab es inconsistente con sus dictionaries\n",
    "        largo=size(datox)[2]\n",
    "        datox=floor(Int32, reshape(datox, largo))\n",
    "        writedlm(a, datox)\n",
    "    else\n",
    "        continue\n",
    "    end\n",
    "end"
   ]
  },
  {
   "cell_type": "code",
   "execution_count": 78,
   "metadata": {
    "collapsed": false
   },
   "outputs": [
    {
     "data": {
      "text/plain": [
       "1"
      ]
     },
     "execution_count": 78,
     "metadata": {},
     "output_type": "execute_result"
    }
   ],
   "source": [
    "length(GDDict[\"Ch55_06\"][1])"
   ]
  },
  {
   "cell_type": "code",
   "execution_count": 69,
   "metadata": {
    "collapsed": false
   },
   "outputs": [
    {
     "name": "stdout",
     "output_type": "stream",
     "text": [
      "search: ! != !== .!= sumabs2! sum! ror! rol! put! pop! map! get! fft! dct! any!\n",
      "\n",
      "Base.!(x)\n",
      "\n",
      "   Boolean not\n"
     ]
    }
   ],
   "source": []
  },
  {
   "cell_type": "code",
   "execution_count": null,
   "metadata": {
    "collapsed": true
   },
   "outputs": [],
   "source": []
  }
 ],
 "metadata": {
  "kernelspec": {
   "display_name": "Julia 0.4.0-dev",
   "language": "julia",
   "name": "julia-0.4"
  },
  "language_info": {
   "name": "julia",
   "version": "0.4.0"
  }
 },
 "nbformat": 4,
 "nbformat_minor": 0
}
