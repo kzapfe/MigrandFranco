{
 "cells": [
  {
   "cell_type": "markdown",
   "metadata": {},
   "source": [
    "Esta cosa debería de tomar dos archivos, una sucesión de tiempos del GD y otra del CA, y checar coincidencias. "
   ]
  },
  {
   "cell_type": "code",
   "execution_count": 23,
   "metadata": {
    "collapsed": false
   },
   "outputs": [],
   "source": [
    "ListaCA=readdir(\"./Ejemplo01/CA3/\");\n",
    "ListaGD=readdir(\"./Ejemplo01/GD/\");"
   ]
  },
  {
   "cell_type": "code",
   "execution_count": 17,
   "metadata": {
    "collapsed": false
   },
   "outputs": [
    {
     "data": {
      "text/plain": [
       "Dict{Any,Any} with 0 entries"
      ]
     },
     "execution_count": 17,
     "metadata": {},
     "output_type": "execute_result"
    }
   ],
   "source": [
    "EntradasYValoresReales=Dict{Any,Any}()\n",
    "Randomizados=Dict{Any,Any}()"
   ]
  },
  {
   "cell_type": "code",
   "execution_count": 3,
   "metadata": {
    "collapsed": false
   },
   "outputs": [
    {
     "name": "stdout",
     "output_type": "stream",
     "text": [
      "elapsed time: 78.929131983 seconds (1630234344 bytes allocated, 0.18% gc time)\n"
     ]
    }
   ],
   "source": [
    "@time for k in ListaCA, j in ListaGD\n",
    "    cp(\"./Ejemplo01/CA3/$k\", \"TestCA.dat\")\n",
    "    cp(\"./Ejemplo01/GD/$j\", \"TestGD.dat\")\n",
    "    chumpa=split(readall(`Busca01.x`))\n",
    "    numeritos=int(chumpa[:])\n",
    "    EntradasYValores[(j,k)]=numeritos\n",
    "end"
   ]
  },
  {
   "cell_type": "code",
   "execution_count": 24,
   "metadata": {
    "collapsed": false
   },
   "outputs": [
    {
     "name": "stdout",
     "output_type": "stream",
     "text": [
      "CA3_Ch31_64.dat GD_Ch26_24.dat\n",
      "CA3_Ch31_64.dat GD_Ch28_08.dat\n",
      "CA3_Ch31_64.dat GD_Ch28_13.dat\n",
      "CA3_Ch31_64.dat GD_Ch28_23.dat\n",
      "CA3_Ch31_64.dat GD_Ch29_05.dat\n",
      "CA3_Ch31_64.dat GD_Ch30_18.dat\n",
      "CA3_Ch31_64.dat GD_Ch31_11.dat\n",
      "CA3_Ch31_64.dat GD_Ch31_17.dat\n",
      "CA3_Ch31_64.dat GD_Ch32_09.dat\n",
      "CA3_Ch31_64.dat GD_Ch32_12.dat\n",
      "CA3_Ch31_64.dat GD_Ch32_17.dat\n",
      "CA3_Ch31_64.dat GD_Ch32_21.dat\n",
      "CA3_Ch31_64.dat GD_Ch32_32.dat\n",
      "CA3_Ch31_64.dat GD_Ch33_15.dat\n",
      "CA3_Ch31_64.dat GD_Ch34_25.dat\n",
      "CA3_Ch31_64.dat GD_Ch34_31.dat\n",
      "CA3_Ch31_64.dat GD_Ch34_34.dat\n",
      "CA3_Ch31_64.dat GD_Ch35_04.dat\n",
      "CA3_Ch31_64.dat GD_Ch35_11.dat\n",
      "CA3_Ch31_64.dat GD_Ch35_12.dat\n",
      "CA3_Ch31_64.dat GD_Ch35_14.dat\n",
      "CA3_Ch31_64.dat GD_Ch36_02.dat\n",
      "CA3_Ch31_64.dat GD_Ch36_05.dat\n",
      "CA3_Ch31_64.dat GD_Ch36_07.dat\n",
      "CA3_Ch31_64.dat GD_Ch37_33.dat\n",
      "CA3_Ch31_64.dat GD_Ch39_35.dat\n",
      "CA3_Ch31_64.dat GD_Ch40_32.dat\n",
      "CA3_Ch31_64.dat GD_Ch41_04.dat\n",
      "CA3_Ch31_64.dat GD_Ch42_04.dat\n",
      "CA3_Ch31_64.dat GD_Ch43_05.dat\n",
      "CA3_Ch31_64.dat GD_Ch43_06.dat\n",
      "CA3_Ch31_64.dat GD_Ch48_02.dat\n",
      "CA3_Ch31_64.dat GD_Ch49_08.dat\n",
      "CA3_Ch31_64.dat GD_Ch49_09.dat\n",
      "CA3_Ch31_64.dat GD_Ch50_02.dat\n",
      "CA3_Ch31_64.dat GD_Ch53_09.dat\n",
      "CA3_Ch31_64.dat GD_Ch55_10.dat\n",
      "CA3_Ch31_64.dat GD_Ch57_10.dat\n",
      "CA3_Ch31_64.dat GD_Ch57_12.dat\n",
      "CA3_Ch31_64.dat GD_Ch59_11.dat\n",
      "CA3_Ch31_64.dat GD_Ch62_10.dat\n",
      "CA3_Ch32_60.dat GD_Ch26_24.dat\n",
      "CA3_Ch32_60.dat GD_Ch28_08.dat\n",
      "CA3_Ch32_60.dat GD_Ch28_13.dat\n",
      "CA3_Ch32_60.dat GD_Ch28_23.dat\n",
      "CA3_Ch32_60.dat GD_Ch29_05.dat\n",
      "CA3_Ch32_60.dat GD_Ch30_18.dat\n",
      "CA3_Ch32_60.dat GD_Ch31_11.dat\n",
      "CA3_Ch32_60.dat GD_Ch31_17.dat\n",
      "CA3_Ch32_60.dat GD_Ch32_09.dat\n",
      "CA3_Ch32_60.dat GD_Ch32_12.dat\n",
      "CA3_Ch32_60.dat GD_Ch32_17.dat\n",
      "CA3_Ch32_60.dat GD_Ch32_21.dat\n",
      "CA3_Ch32_60.dat GD_Ch32_32.dat\n",
      "CA3_Ch32_60.dat GD_Ch33_15.dat\n",
      "CA3_Ch32_60.dat GD_Ch34_25.dat\n",
      "CA3_Ch32_60.dat GD_Ch34_31.dat\n",
      "CA3_Ch32_60.dat GD_Ch34_34.dat\n",
      "CA3_Ch32_60.dat GD_Ch35_04.dat\n",
      "CA3_Ch32_60.dat GD_Ch35_11.dat\n",
      "CA3_Ch32_60.dat GD_Ch35_12.dat\n",
      "CA3_Ch32_60.dat GD_Ch35_14.dat\n",
      "CA3_Ch32_60.dat GD_Ch36_02.dat\n",
      "CA3_Ch32_60.dat GD_Ch36_05.dat\n",
      "CA3_Ch32_60.dat GD_Ch36_07.dat\n",
      "CA3_Ch32_60.dat GD_Ch37_33.dat\n",
      "CA3_Ch32_60.dat GD_Ch39_35.dat\n",
      "CA3_Ch32_60.dat GD_Ch40_32.dat\n",
      "CA3_Ch32_60.dat GD_Ch41_04.dat\n",
      "CA3_Ch32_60.dat GD_Ch42_04.dat\n",
      "CA3_Ch32_60.dat GD_Ch43_05.dat\n",
      "CA3_Ch32_60.dat GD_Ch43_06.dat\n",
      "CA3_Ch32_60.dat GD_Ch48_02.dat\n",
      "CA3_Ch32_60.dat GD_Ch49_08.dat\n",
      "CA3_Ch32_60.dat GD_Ch49_09.dat\n",
      "CA3_Ch32_60.dat GD_Ch50_02.dat\n",
      "CA3_Ch32_60.dat GD_Ch53_09.dat\n",
      "CA3_Ch32_60.dat GD_Ch55_10.dat\n",
      "CA3_Ch32_60.dat GD_Ch57_10.dat\n",
      "CA3_Ch32_60.dat GD_Ch57_12.dat\n",
      "CA3_Ch32_60.dat GD_Ch59_11.dat\n",
      "CA3_Ch32_60.dat GD_Ch62_10.dat\n",
      "CA3_Ch32_61.dat GD_Ch26_24.dat\n",
      "CA3_Ch32_61.dat GD_Ch28_08.dat\n",
      "CA3_Ch32_61.dat GD_Ch28_13.dat\n",
      "CA3_Ch32_61.dat GD_Ch28_23.dat\n",
      "CA3_Ch32_61.dat GD_Ch29_05.dat\n",
      "CA3_Ch32_61.dat GD_Ch30_18.dat\n",
      "CA3_Ch32_61.dat GD_Ch31_11.dat\n",
      "CA3_Ch32_61.dat GD_Ch31_17.dat\n",
      "CA3_Ch32_61.dat GD_Ch32_09.dat\n",
      "CA3_Ch32_61.dat GD_Ch32_12.dat\n",
      "CA3_Ch32_61.dat GD_Ch32_17.dat\n",
      "CA3_Ch32_61.dat GD_Ch32_21.dat\n",
      "CA3_Ch32_61.dat GD_Ch32_32.dat\n",
      "CA3_Ch32_61.dat GD_Ch33_15.dat\n",
      "CA3_Ch32_61.dat GD_Ch34_25.dat\n",
      "CA3_Ch32_61.dat GD_Ch34_31.dat\n",
      "CA3_Ch32_61.dat GD_Ch34_34.dat\n",
      "CA3_Ch32_61.dat GD_Ch35_04.dat\n",
      "CA3_Ch32_61.dat GD_Ch35_11.dat\n",
      "CA3_Ch32_61.dat GD_Ch35_12.dat\n",
      "CA3_Ch32_61.dat GD_Ch35_14.dat\n",
      "CA3_Ch32_61.dat GD_Ch36_02.dat\n",
      "CA3_Ch32_61.dat GD_Ch36_05.dat\n",
      "CA3_Ch32_61.dat GD_Ch36_07.dat\n",
      "CA3_Ch32_61.dat GD_Ch37_33.dat\n",
      "CA3_Ch32_61.dat GD_Ch39_35.dat\n",
      "CA3_Ch32_61.dat GD_Ch40_32.dat\n",
      "CA3_Ch32_61.dat GD_Ch41_04.dat\n",
      "CA3_Ch32_61.dat GD_Ch42_04.dat\n",
      "CA3_Ch32_61.dat GD_Ch43_05.dat\n",
      "CA3_Ch32_61.dat GD_Ch43_06.dat\n",
      "CA3_Ch32_61.dat GD_Ch48_02.dat\n",
      "CA3_Ch32_61.dat GD_Ch49_08.dat\n",
      "CA3_Ch32_61.dat GD_Ch49_09.dat\n",
      "CA3_Ch32_61.dat GD_Ch50_02.dat\n",
      "CA3_Ch32_61.dat GD_Ch53_09.dat\n",
      "CA3_Ch32_61.dat GD_Ch55_10.dat\n",
      "CA3_Ch32_61.dat GD_Ch57_10.dat\n",
      "CA3_Ch32_61.dat GD_Ch57_12.dat\n",
      "CA3_Ch32_61.dat GD_Ch59_11.dat\n",
      "CA3_Ch32_61.dat GD_Ch62_10.dat\n",
      "CA3_Ch33_61.dat GD_Ch26_24.dat\n",
      "CA3_Ch33_61.dat GD_Ch28_08.dat\n",
      "CA3_Ch33_61.dat GD_Ch28_13.dat\n",
      "CA3_Ch33_61.dat GD_Ch28_23.dat\n",
      "CA3_Ch33_61.dat GD_Ch29_05.dat\n",
      "CA3_Ch33_61.dat GD_Ch30_18.dat\n",
      "CA3_Ch33_61.dat GD_Ch31_11.dat\n",
      "CA3_Ch33_61.dat GD_Ch31_17.dat\n",
      "CA3_Ch33_61.dat GD_Ch32_09.dat\n",
      "CA3_Ch33_61.dat GD_Ch32_12.dat\n",
      "CA3_Ch33_61.dat GD_Ch32_17.dat\n",
      "CA3_Ch33_61.dat GD_Ch32_21.dat\n",
      "CA3_Ch33_61.dat GD_Ch32_32.dat\n",
      "CA3_Ch33_61.dat GD_Ch33_15.dat\n",
      "CA3_Ch33_61.dat GD_Ch34_25.dat\n",
      "CA3_Ch33_61.dat GD_Ch34_31.dat\n",
      "CA3_Ch33_61.dat GD_Ch34_34.dat\n",
      "CA3_Ch33_61.dat GD_Ch35_04.dat\n",
      "CA3_Ch33_61.dat GD_Ch35_11.dat\n",
      "CA3_Ch33_61.dat GD_Ch35_12.dat\n",
      "CA3_Ch33_61.dat GD_Ch35_14.dat\n",
      "CA3_Ch33_61.dat GD_Ch36_02.dat\n",
      "CA3_Ch33_61.dat GD_Ch36_05.dat\n",
      "CA3_Ch33_61.dat GD_Ch36_07.dat\n",
      "CA3_Ch33_61.dat GD_Ch37_33.dat\n",
      "CA3_Ch33_61.dat GD_Ch39_35.dat\n",
      "CA3_Ch33_61.dat GD_Ch40_32.dat\n",
      "CA3_Ch33_61.dat GD_Ch41_04.dat\n",
      "CA3_Ch33_61.dat GD_Ch42_04.dat\n",
      "CA3_Ch33_61.dat GD_Ch43_05.dat\n",
      "CA3_Ch33_61.dat GD_Ch43_06.dat\n",
      "CA3_Ch33_61.dat GD_Ch48_02.dat\n",
      "CA3_Ch33_61.dat GD_Ch49_08.dat\n",
      "CA3_Ch33_61.dat GD_Ch49_09.dat\n",
      "CA3_Ch33_61.dat GD_Ch50_02.dat\n",
      "CA3_Ch33_61.dat GD_Ch53_09.dat\n",
      "CA3_Ch33_61.dat GD_Ch55_10.dat\n",
      "CA3_Ch33_61.dat GD_Ch57_10.dat\n",
      "CA3_Ch33_61.dat GD_Ch57_12.dat\n",
      "CA3_Ch33_61.dat GD_Ch59_11.dat\n",
      "CA3_Ch33_61.dat GD_Ch62_10.dat\n",
      "CA3_Ch33_63.dat GD_Ch26_24.dat\n",
      "CA3_Ch33_63.dat GD_Ch28_08.dat\n",
      "CA3_Ch33_63.dat GD_Ch28_13.dat\n",
      "CA3_Ch33_63.dat GD_Ch28_23.dat\n",
      "CA3_Ch33_63.dat GD_Ch29_05.dat\n",
      "CA3_Ch33_63.dat GD_Ch30_18.dat\n",
      "CA3_Ch33_63.dat GD_Ch31_11.dat\n",
      "CA3_Ch33_63.dat GD_Ch31_17.dat\n",
      "CA3_Ch33_63.dat GD_Ch32_09.dat\n",
      "CA3_Ch33_63.dat GD_Ch32_12.dat\n",
      "CA3_Ch33_63.dat GD_Ch32_17.dat\n",
      "CA3_Ch33_63.dat GD_Ch32_21.dat\n",
      "CA3_Ch33_63.dat GD_Ch32_32.dat\n",
      "CA3_Ch33_63.dat GD_Ch33_15.dat\n",
      "CA3_Ch33_63.dat GD_Ch34_25.dat\n",
      "CA3_Ch33_63.dat GD_Ch34_31.dat\n",
      "CA3_Ch33_63.dat GD_Ch34_34.dat\n",
      "CA3_Ch33_63.dat GD_Ch35_04.dat\n",
      "CA3_Ch33_63.dat GD_Ch35_11.dat\n",
      "CA3_Ch33_63.dat GD_Ch35_12.dat\n",
      "CA3_Ch33_63.dat GD_Ch35_14.dat\n",
      "CA3_Ch33_63.dat GD_Ch36_02.dat\n",
      "CA3_Ch33_63.dat GD_Ch36_05.dat\n",
      "CA3_Ch33_63.dat GD_Ch36_07.dat\n",
      "CA3_Ch33_63.dat GD_Ch37_33.dat\n",
      "CA3_Ch33_63.dat GD_Ch39_35.dat\n",
      "CA3_Ch33_63.dat GD_Ch40_32.dat\n",
      "CA3_Ch33_63.dat GD_Ch41_04.dat\n",
      "CA3_Ch33_63.dat GD_Ch42_04.dat\n",
      "CA3_Ch33_63.dat GD_Ch43_05.dat\n",
      "CA3_Ch33_63.dat GD_Ch43_06.dat\n",
      "CA3_Ch33_63.dat GD_Ch48_02.dat\n",
      "CA3_Ch33_63.dat GD_Ch49_08.dat\n",
      "CA3_Ch33_63.dat GD_Ch49_09.dat\n",
      "CA3_Ch33_63.dat GD_Ch50_02.dat\n",
      "CA3_Ch33_63.dat GD_Ch53_09.dat\n",
      "CA3_Ch33_63.dat GD_Ch55_10.dat\n",
      "CA3_Ch33_63.dat GD_Ch57_10.dat\n",
      "CA3_Ch33_63.dat GD_Ch57_12.dat\n",
      "CA3_Ch33_63.dat GD_Ch59_11.dat\n",
      "CA3_Ch33_63.dat GD_Ch62_10.dat\n",
      "CA3_Ch34_64.dat GD_Ch26_24.dat\n",
      "CA3_Ch34_64.dat GD_Ch28_08.dat\n",
      "CA3_Ch34_64.dat GD_Ch28_13.dat\n",
      "CA3_Ch34_64.dat GD_Ch28_23.dat\n",
      "CA3_Ch34_64.dat GD_Ch29_05.dat\n",
      "CA3_Ch34_64.dat GD_Ch30_18.dat\n",
      "CA3_Ch34_64.dat GD_Ch31_11.dat\n",
      "CA3_Ch34_64.dat GD_Ch31_17.dat\n",
      "CA3_Ch34_64.dat GD_Ch32_09.dat\n",
      "CA3_Ch34_64.dat GD_Ch32_12.dat\n",
      "CA3_Ch34_64.dat GD_Ch32_17.dat\n",
      "CA3_Ch34_64.dat GD_Ch32_21.dat\n",
      "CA3_Ch34_64.dat GD_Ch32_32.dat\n",
      "CA3_Ch34_64.dat GD_Ch33_15.dat\n",
      "CA3_Ch34_64.dat GD_Ch34_25.dat\n",
      "CA3_Ch34_64.dat GD_Ch34_31.dat\n",
      "CA3_Ch34_64.dat GD_Ch34_34.dat\n",
      "CA3_Ch34_64.dat GD_Ch35_04.dat\n",
      "CA3_Ch34_64.dat GD_Ch35_11.dat\n",
      "CA3_Ch34_64.dat GD_Ch35_12.dat\n",
      "CA3_Ch34_64.dat GD_Ch35_14.dat\n",
      "CA3_Ch34_64.dat GD_Ch36_02.dat\n",
      "CA3_Ch34_64.dat GD_Ch36_05.dat\n",
      "CA3_Ch34_64.dat GD_Ch36_07.dat\n",
      "CA3_Ch34_64.dat GD_Ch37_33.dat\n",
      "CA3_Ch34_64.dat GD_Ch39_35.dat\n",
      "CA3_Ch34_64.dat GD_Ch40_32.dat\n",
      "CA3_Ch34_64.dat GD_Ch41_04.dat\n",
      "CA3_Ch34_64.dat GD_Ch42_04.dat\n",
      "CA3_Ch34_64.dat GD_Ch43_05.dat\n",
      "CA3_Ch34_64.dat GD_Ch43_06.dat\n",
      "CA3_Ch34_64.dat GD_Ch48_02.dat\n",
      "CA3_Ch34_64.dat GD_Ch49_08.dat\n",
      "CA3_Ch34_64.dat GD_Ch49_09.dat\n",
      "CA3_Ch34_64.dat GD_Ch50_02.dat\n",
      "CA3_Ch34_64.dat GD_Ch53_09.dat\n",
      "CA3_Ch34_64.dat GD_Ch55_10.dat\n",
      "CA3_Ch34_64.dat GD_Ch57_10.dat\n",
      "CA3_Ch34_64.dat GD_Ch57_12.dat\n",
      "CA3_Ch34_64.dat GD_Ch59_11.dat\n",
      "CA3_Ch34_64.dat GD_Ch62_10.dat\n",
      "CA3_Ch35_64.dat GD_Ch26_24.dat\n",
      "CA3_Ch35_64.dat GD_Ch28_08.dat\n",
      "CA3_Ch35_64.dat GD_Ch28_13.dat\n",
      "CA3_Ch35_64.dat GD_Ch28_23.dat\n",
      "CA3_Ch35_64.dat GD_Ch29_05.dat\n",
      "CA3_Ch35_64.dat GD_Ch30_18.dat\n",
      "CA3_Ch35_64.dat GD_Ch31_11.dat\n",
      "CA3_Ch35_64.dat GD_Ch31_17.dat\n",
      "CA3_Ch35_64.dat GD_Ch32_09.dat\n",
      "CA3_Ch35_64.dat GD_Ch32_12.dat\n",
      "CA3_Ch35_64.dat GD_Ch32_17.dat\n",
      "CA3_Ch35_64.dat GD_Ch32_21.dat\n",
      "CA3_Ch35_64.dat GD_Ch32_32.dat\n",
      "CA3_Ch35_64.dat GD_Ch33_15.dat\n",
      "CA3_Ch35_64.dat GD_Ch34_25.dat\n",
      "CA3_Ch35_64.dat GD_Ch34_31.dat\n",
      "CA3_Ch35_64.dat GD_Ch34_34.dat\n",
      "CA3_Ch35_64.dat GD_Ch35_04.dat\n",
      "CA3_Ch35_64.dat GD_Ch35_11.dat\n",
      "CA3_Ch35_64.dat GD_Ch35_12.dat\n",
      "CA3_Ch35_64.dat GD_Ch35_14.dat\n",
      "CA3_Ch35_64.dat GD_Ch36_02.dat\n",
      "CA3_Ch35_64.dat GD_Ch36_05.dat\n",
      "CA3_Ch35_64.dat GD_Ch36_07.dat\n",
      "CA3_Ch35_64.dat GD_Ch37_33.dat\n",
      "CA3_Ch35_64.dat GD_Ch39_35.dat\n",
      "CA3_Ch35_64.dat GD_Ch40_32.dat\n",
      "CA3_Ch35_64.dat GD_Ch41_04.dat\n",
      "CA3_Ch35_64.dat GD_Ch42_04.dat\n",
      "CA3_Ch35_64.dat GD_Ch43_05.dat\n",
      "CA3_Ch35_64.dat GD_Ch43_06.dat\n",
      "CA3_Ch35_64.dat GD_Ch48_02.dat\n",
      "CA3_Ch35_64.dat GD_Ch49_08.dat\n",
      "CA3_Ch35_64.dat GD_Ch49_09.dat\n",
      "CA3_Ch35_64.dat GD_Ch50_02.dat\n",
      "CA3_Ch35_64.dat GD_Ch53_09.dat\n",
      "CA3_Ch35_64.dat GD_Ch55_10.dat\n",
      "CA3_Ch35_64.dat GD_Ch57_10.dat\n",
      "CA3_Ch35_64.dat GD_Ch57_12.dat\n",
      "CA3_Ch35_64.dat GD_Ch59_11.dat\n",
      "CA3_Ch35_64.dat GD_Ch62_10.dat\n",
      "CA3_Ch37_59.dat GD_Ch26_24.dat\n",
      "CA3_Ch37_59.dat GD_Ch28_08.dat\n",
      "CA3_Ch37_59.dat GD_Ch28_13.dat\n",
      "CA3_Ch37_59.dat GD_Ch28_23.dat\n",
      "CA3_Ch37_59.dat GD_Ch29_05.dat\n",
      "CA3_Ch37_59.dat GD_Ch30_18.dat\n",
      "CA3_Ch37_59.dat GD_Ch31_11.dat\n",
      "CA3_Ch37_59.dat GD_Ch31_17.dat\n",
      "CA3_Ch37_59.dat GD_Ch32_09.dat\n",
      "CA3_Ch37_59.dat GD_Ch32_12.dat\n",
      "CA3_Ch37_59.dat GD_Ch32_17.dat\n",
      "CA3_Ch37_59.dat GD_Ch32_21.dat\n",
      "CA3_Ch37_59.dat GD_Ch32_32.dat\n",
      "CA3_Ch37_59.dat GD_Ch33_15.dat\n",
      "CA3_Ch37_59.dat GD_Ch34_25.dat\n",
      "CA3_Ch37_59.dat GD_Ch34_31.dat\n",
      "CA3_Ch37_59.dat GD_Ch34_34.dat\n",
      "CA3_Ch37_59.dat GD_Ch35_04.dat\n",
      "CA3_Ch37_59.dat GD_Ch35_11.dat\n",
      "CA3_Ch37_59.dat GD_Ch35_12.dat\n",
      "CA3_Ch37_59.dat GD_Ch35_14.dat\n",
      "CA3_Ch37_59.dat GD_Ch36_02.dat\n",
      "CA3_Ch37_59.dat GD_Ch36_05.dat\n",
      "CA3_Ch37_59.dat GD_Ch36_07.dat\n",
      "CA3_Ch37_59.dat GD_Ch37_33.dat\n",
      "CA3_Ch37_59.dat GD_Ch39_35.dat\n",
      "CA3_Ch37_59.dat GD_Ch40_32.dat\n",
      "CA3_Ch37_59.dat GD_Ch41_04.dat\n",
      "CA3_Ch37_59.dat GD_Ch42_04.dat\n",
      "CA3_Ch37_59.dat GD_Ch43_05.dat\n",
      "CA3_Ch37_59.dat GD_Ch43_06.dat\n",
      "CA3_Ch37_59.dat GD_Ch48_02.dat\n",
      "CA3_Ch37_59.dat GD_Ch49_08.dat\n",
      "CA3_Ch37_59.dat GD_Ch49_09.dat\n",
      "CA3_Ch37_59.dat GD_Ch50_02.dat\n",
      "CA3_Ch37_59.dat GD_Ch53_09.dat\n",
      "CA3_Ch37_59.dat GD_Ch55_10.dat\n",
      "CA3_Ch37_59.dat GD_Ch57_10.dat\n",
      "CA3_Ch37_59.dat GD_Ch57_12.dat\n",
      "CA3_Ch37_59.dat GD_Ch59_11.dat\n",
      "CA3_Ch37_59.dat GD_Ch62_10.dat\n",
      "CA3_Ch37_63.dat GD_Ch26_24.dat\n",
      "CA3_Ch37_63.dat GD_Ch28_08.dat\n",
      "CA3_Ch37_63.dat GD_Ch28_13.dat\n",
      "CA3_Ch37_63.dat GD_Ch28_23.dat\n",
      "CA3_Ch37_63.dat GD_Ch29_05.dat\n",
      "CA3_Ch37_63.dat GD_Ch30_18.dat\n",
      "CA3_Ch37_63.dat GD_Ch31_11.dat\n",
      "CA3_Ch37_63.dat GD_Ch31_17.dat\n",
      "CA3_Ch37_63.dat GD_Ch32_09.dat\n",
      "CA3_Ch37_63.dat GD_Ch32_12.dat\n",
      "CA3_Ch37_63.dat GD_Ch32_17.dat\n",
      "CA3_Ch37_63.dat GD_Ch32_21.dat\n",
      "CA3_Ch37_63.dat GD_Ch32_32.dat\n",
      "CA3_Ch37_63.dat GD_Ch33_15.dat\n",
      "CA3_Ch37_63.dat GD_Ch34_25.dat\n",
      "CA3_Ch37_63.dat GD_Ch34_31.dat\n",
      "CA3_Ch37_63.dat GD_Ch34_34.dat\n",
      "CA3_Ch37_63.dat GD_Ch35_04.dat\n",
      "CA3_Ch37_63.dat GD_Ch35_11.dat\n",
      "CA3_Ch37_63.dat GD_Ch35_12.dat\n",
      "CA3_Ch37_63.dat GD_Ch35_14.dat\n",
      "CA3_Ch37_63.dat GD_Ch36_02.dat\n",
      "CA3_Ch37_63.dat GD_Ch36_05.dat\n",
      "CA3_Ch37_63.dat GD_Ch36_07.dat\n",
      "CA3_Ch37_63.dat GD_Ch37_33.dat\n",
      "CA3_Ch37_63.dat GD_Ch39_35.dat\n",
      "CA3_Ch37_63.dat GD_Ch40_32.dat\n",
      "CA3_Ch37_63.dat GD_Ch41_04.dat\n",
      "CA3_Ch37_63.dat GD_Ch42_04.dat\n",
      "CA3_Ch37_63.dat GD_Ch43_05.dat\n",
      "CA3_Ch37_63.dat GD_Ch43_06.dat\n",
      "CA3_Ch37_63.dat GD_Ch48_02.dat\n",
      "CA3_Ch37_63.dat GD_Ch49_08.dat\n",
      "CA3_Ch37_63.dat GD_Ch49_09.dat\n",
      "CA3_Ch37_63.dat GD_Ch50_02.dat\n",
      "CA3_Ch37_63.dat GD_Ch53_09.dat\n",
      "CA3_Ch37_63.dat GD_Ch55_10.dat\n",
      "CA3_Ch37_63.dat GD_Ch57_10.dat\n",
      "CA3_Ch37_63.dat GD_Ch57_12.dat\n",
      "CA3_Ch37_63.dat GD_Ch59_11.dat\n",
      "CA3_Ch37_63.dat GD_Ch62_10.dat\n",
      "CA3_Ch38_62.dat GD_Ch26_24.dat\n",
      "CA3_Ch38_62.dat GD_Ch28_08.dat\n",
      "CA3_Ch38_62.dat GD_Ch28_13.dat\n",
      "CA3_Ch38_62.dat GD_Ch28_23.dat\n",
      "CA3_Ch38_62.dat GD_Ch29_05.dat\n",
      "CA3_Ch38_62.dat GD_Ch30_18.dat\n",
      "CA3_Ch38_62.dat GD_Ch31_11.dat\n",
      "CA3_Ch38_62.dat GD_Ch31_17.dat\n",
      "CA3_Ch38_62.dat GD_Ch32_09.dat\n",
      "CA3_Ch38_62.dat GD_Ch32_12.dat\n",
      "CA3_Ch38_62.dat GD_Ch32_17.dat\n",
      "CA3_Ch38_62.dat GD_Ch32_21.dat\n",
      "CA3_Ch38_62.dat GD_Ch32_32.dat\n",
      "CA3_Ch38_62.dat GD_Ch33_15.dat\n",
      "CA3_Ch38_62.dat GD_Ch34_25.dat\n",
      "CA3_Ch38_62.dat GD_Ch34_31.dat\n"
     ]
    },
    {
     "ename": "LoadError",
     "evalue": "interrupt\nwhile loading In[24], in expression starting on line 1",
     "output_type": "error",
     "traceback": [
      "interrupt\nwhile loading In[24], in expression starting on line 1",
      "",
      " in process_events at ./stream.jl:537",
      " in wait at ./task.jl:273",
      " in wait at ./task.jl:194",
      " in stream_wait at ./stream.jl:263",
      " in wait at ./process.jl:619",
      " in readbytes at ./process.jl:462",
      " in anonymous at util.jl:5"
     ]
    }
   ],
   "source": [
    "@time for k in ListaCA, j in ListaGD\n",
    "    cp(\"./Ejemplo01/CA3/$k\", \"TestCA.dat\")\n",
    "    cp(\"./Ejemplo01/GD/$j\", \"TestGD.dat\")\n",
    "    #println(k, \" \", j)\n",
    "    chumpa=split(readall(`MezclayCoincide.x`))\n",
    "    numeritos=float32(chumpa[:])\n",
    "    Randomizados[(j,k)]=numeritos\n",
    "end"
   ]
  },
  {
   "cell_type": "code",
   "execution_count": 19,
   "metadata": {
    "collapsed": false
   },
   "outputs": [
    {
     "data": {
      "text/plain": [
       "Dict{Any,Any} with 24 entries:\n",
       "  (\"GD_Ch35_11.dat\",\"CA3_… => Float32[0.635,11.0,1213.0]\n",
       "  (\"GD_Ch36_07.dat\",\"CA3_… => Float32[0.068,1.0,1213.0]\n",
       "  (\"GD_Ch32_12.dat\",\"CA3_… => Float32[0.32,5.0,1213.0]\n",
       "  (\"GD_Ch32_21.dat\",\"CA3_… => Float32[0.24,4.0,1213.0]\n",
       "  (\"GD_Ch28_13.dat\",\"CA3_… => Float32[3.202,54.0,1213.0]\n",
       "  (\"GD_Ch36_02.dat\",\"CA3_… => Float32[0.118,2.0,1213.0]\n",
       "  (\"GD_Ch36_05.dat\",\"CA3_… => Float32[0.24,4.0,1213.0]\n",
       "  (\"GD_Ch28_23.dat\",\"CA3_… => Float32[2.594,43.0,1213.0]\n",
       "  (\"GD_Ch34_31.dat\",\"CA3_… => Float32[8.364,142.0,1213.0]\n",
       "  (\"GD_Ch35_04.dat\",\"CA3_… => Float32[0.182,3.0,1213.0]\n",
       "  (\"GD_Ch26_24.dat\",\"CA3_… => Float32[0.816,13.0,1213.0]\n",
       "  (\"GD_Ch32_17.dat\",\"CA3_… => Float32[96.992,1952.0,1213.0]\n",
       "  (\"GD_Ch32_09.dat\",\"CA3_… => Float32[0.463,8.0,1213.0]\n",
       "  (\"GD_Ch31_17.dat\",\"CA3_… => Float32[17.971,303.0,1213.0]\n",
       "  (\"GD_Ch34_34.dat\",\"CA3_… => Float32[0.608,10.0,1213.0]\n",
       "  (\"GD_Ch28_08.dat\",\"CA3_… => Float32[0.807,13.0,1213.0]\n",
       "  (\"GD_Ch29_05.dat\",\"CA3_… => Float32[0.076,1.0,1213.0]\n",
       "  (\"GD_Ch31_11.dat\",\"CA3_… => Float32[2.278,38.0,1213.0]\n",
       "  (\"GD_Ch35_12.dat\",\"CA3_… => Float32[1.714,28.0,1213.0]\n",
       "  (\"GD_Ch34_25.dat\",\"CA3_… => Float32[64.083,1107.0,1213.0]\n",
       "  (\"GD_Ch33_15.dat\",\"CA3_… => Float32[0.065,1.0,1213.0]\n",
       "  (\"GD_Ch30_18.dat\",\"CA3_… => Float32[54.637,917.0,1213.0]\n",
       "  (\"GD_Ch32_32.dat\",\"CA3_… => Float32[0.379,6.0,1213.0]\n",
       "  (\"GD_Ch35_14.dat\",\"CA3_… => Float32[0.311,5.0,1213.0]"
      ]
     },
     "execution_count": 19,
     "metadata": {},
     "output_type": "execute_result"
    }
   ],
   "source": [
    "Randomizados"
   ]
  },
  {
   "cell_type": "code",
   "execution_count": 4,
   "metadata": {
    "collapsed": false
   },
   "outputs": [],
   "source": [
    "writedlm(\"Coincidencias01.dat\", EntradasYValores)"
   ]
  },
  {
   "cell_type": "code",
   "execution_count": 5,
   "metadata": {
    "collapsed": false
   },
   "outputs": [],
   "source": [
    "using DataFrames"
   ]
  },
  {
   "cell_type": "code",
   "execution_count": 6,
   "metadata": {
    "collapsed": false
   },
   "outputs": [
    {
     "data": {
      "text/html": [
       "<table class=\"data-frame\"><tr><th></th></tr></table>"
      ],
      "text/plain": [
       "0x0 DataFrame\n"
      ]
     },
     "execution_count": 6,
     "metadata": {},
     "output_type": "execute_result"
    }
   ],
   "source": [
    "dfram=DataFrame()"
   ]
  },
  {
   "cell_type": "code",
   "execution_count": 7,
   "metadata": {
    "collapsed": false
   },
   "outputs": [
    {
     "data": {
      "text/plain": [
       "KeyIterator for a Dict{Any,Any} with 8568 entries. Keys:\n",
       "  (\"GD_Ch35_12.dat\",\"CA3_Ch48_64.dat\")\n",
       "  (\"GD_Ch42_04.dat\",\"CA3_Ch57_31.dat\")\n",
       "  (\"GD_Ch34_34.dat\",\"CA3_Ch59_47.dat\")\n",
       "  (\"GD_Ch28_23.dat\",\"CA3_Ch53_30.dat\")\n",
       "  (\"GD_Ch32_09.dat\",\"CA3_Ch59_50.dat\")\n",
       "  (\"GD_Ch34_25.dat\",\"CA3_Ch59_34.dat\")\n",
       "  (\"GD_Ch37_33.dat\",\"CA3_Ch59_53.dat\")\n",
       "  (\"GD_Ch31_11.dat\",\"CA3_Ch56_32.dat\")\n",
       "  (\"GD_Ch36_02.dat\",\"CA3_Ch59_41.dat\")\n",
       "  (\"GD_Ch40_32.dat\",\"CA3_Ch61_37.dat\")\n",
       "  (\"GD_Ch35_11.dat\",\"CA3_Ch60_34.dat\")\n",
       "  (\"GD_Ch43_06.dat\",\"CA3_Ch58_32.dat\")\n",
       "  (\"GD_Ch32_09.dat\",\"CA3_Ch46_64.dat\")\n",
       "  (\"GD_Ch37_33.dat\",\"CA3_Ch62_32.dat\")\n",
       "  (\"GD_Ch34_34.dat\",\"CA3_Ch57_49.dat\")\n",
       "  (\"GD_Ch34_34.dat\",\"CA3_Ch62_46.dat\")\n",
       "  (\"GD_Ch31_17.dat\",\"CA3_Ch64_42.dat\")\n",
       "  (\"GD_Ch43_05.dat\",\"CA3_Ch51_30.dat\")\n",
       "  (\"GD_Ch28_08.dat\",\"CA3_Ch58_33.dat\")\n",
       "  (\"GD_Ch43_06.dat\",\"CA3_Ch60_38.dat\")\n",
       "  (\"GD_Ch34_31.dat\",\"CA3_Ch62_41.dat\")\n",
       "  (\"GD_Ch32_21.dat\",\"CA3_Ch61_34.dat\")\n",
       "  (\"GD_Ch53_09.dat\",\"CA3_Ch62_32.dat\")\n",
       "  (\"GD_Ch31_11.dat\",\"CA3_Ch61_39.dat\")\n",
       "  ⋮"
      ]
     },
     "execution_count": 7,
     "metadata": {},
     "output_type": "execute_result"
    }
   ],
   "source": [
    "keys(EntradasYValores)"
   ]
  },
  {
   "cell_type": "code",
   "execution_count": 99,
   "metadata": {
    "collapsed": false
   },
   "outputs": [
    {
     "data": {
      "text/plain": [
       "ValueIterator for a Dict{Any,Any} with 8568 entries. Values:\n",
       "  [2,29,686]\n",
       "  [533,2482,5791]\n",
       "  [0,11,173]\n",
       "  [1,44,901]\n",
       "  [0,9,801]\n",
       "  [275,1108,6084]\n",
       "  [2,14,2488]\n",
       "  [0,39,1568]\n",
       "  [0,3,143]\n",
       "  [0,12,3219]\n",
       "  [4,12,9369]\n",
       "  [3,7,9372]\n",
       "  [1,9,1528]\n",
       "  [0,14,566]\n",
       "  [0,11,46]\n",
       "  [1,11,2306]\n",
       "  [43,304,4170]\n",
       "  [2,95,1858]\n",
       "  [2,14,3643]\n",
       "  [1,7,1181]\n",
       "  [23,143,3027]\n",
       "  [2,5,6601]\n",
       "  [4,316,566]\n",
       "  [3,39,2554]\n",
       "  ⋮"
      ]
     },
     "execution_count": 99,
     "metadata": {},
     "output_type": "execute_result"
    }
   ],
   "source": [
    "dfram[:B]=values(EntradasYValores)"
   ]
  },
  {
   "cell_type": "code",
   "execution_count": 100,
   "metadata": {
    "collapsed": false
   },
   "outputs": [
    {
     "data": {
      "text/plain": [
       "(1,2)"
      ]
     },
     "execution_count": 100,
     "metadata": {},
     "output_type": "execute_result"
    }
   ],
   "source": [
    "size(dfram)"
   ]
  },
  {
   "cell_type": "code",
   "execution_count": 102,
   "metadata": {
    "collapsed": false
   },
   "outputs": [
    {
     "name": "stdout",
     "output_type": "stream",
     "text": [
      "Symbol not found. Falling back on apropos search ...\n",
      "No help information found.\n"
     ]
    }
   ],
   "source": [
    "?Iterators"
   ]
  },
  {
   "cell_type": "code",
   "execution_count": null,
   "metadata": {
    "collapsed": true
   },
   "outputs": [],
   "source": []
  }
 ],
 "metadata": {
  "kernelspec": {
   "display_name": "Julia 0.3.7-pre",
   "language": "julia",
   "name": "julia-0.3"
  },
  "language_info": {
   "name": "julia",
   "version": "0.3.7"
  }
 },
 "nbformat": 4,
 "nbformat_minor": 0
}
