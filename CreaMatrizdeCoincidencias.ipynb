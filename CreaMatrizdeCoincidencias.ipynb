{
 "cells": [
  {
   "cell_type": "markdown",
   "metadata": {},
   "source": [
    "Esta cosa debería de tomar dos archivos, una sucesión de tiempos del GD y otra del CA, y checar coincidencias. "
   ]
  },
  {
   "cell_type": "code",
   "execution_count": 8,
   "metadata": {
    "collapsed": false
   },
   "outputs": [
    {
     "data": {
      "text/plain": [
       "0"
      ]
     },
     "execution_count": 8,
     "metadata": {},
     "output_type": "execute_result"
    }
   ],
   "source": [
    "testing01=int(readchomp(`Busca01.x`))"
   ]
  },
  {
   "cell_type": "code",
   "execution_count": 11,
   "metadata": {
    "collapsed": false
   },
   "outputs": [
    {
     "data": {
      "text/plain": [
       "File(\"TestGD.dat\",false,-1)"
      ]
     },
     "execution_count": 11,
     "metadata": {},
     "output_type": "execute_result"
    }
   ],
   "source": [
    "cp(\"Ejemplo01/GD/GD_Ch26_24.dat\", \"TestGD.dat\")"
   ]
  },
  {
   "cell_type": "code",
   "execution_count": 12,
   "metadata": {
    "collapsed": false
   },
   "outputs": [
    {
     "data": {
      "text/plain": [
       "File(\"TestCA.dat\",false,-1)"
      ]
     },
     "execution_count": 12,
     "metadata": {},
     "output_type": "execute_result"
    }
   ],
   "source": [
    "cp(\"Ejemplo01/CA3/CA3_Ch31_64.dat\", \"TestCA.dat\")"
   ]
  },
  {
   "cell_type": "code",
   "execution_count": 13,
   "metadata": {
    "collapsed": false
   },
   "outputs": [
    {
     "data": {
      "text/plain": [
       "0"
      ]
     },
     "execution_count": 13,
     "metadata": {},
     "output_type": "execute_result"
    }
   ],
   "source": [
    "testing01=int(readchomp(`Busca01.x`))"
   ]
  },
  {
   "cell_type": "code",
   "execution_count": 19,
   "metadata": {
    "collapsed": false
   },
   "outputs": [],
   "source": [
    "ListaCA=readdir(\"./Ejemplo01/CA3/\");\n",
    "ListaGD=readdir(\"./Ejemplo01/GD/\");"
   ]
  },
  {
   "cell_type": "code",
   "execution_count": 24,
   "metadata": {
    "collapsed": false
   },
   "outputs": [
    {
     "data": {
      "text/plain": [
       "File(\"TestCA.dat\",false,-1)"
      ]
     },
     "execution_count": 24,
     "metadata": {},
     "output_type": "execute_result"
    }
   ],
   "source": [
    "a=ListaCA[22]\n",
    "cp(\"./Ejemplo01/CA3/$a\", \"TestCA.dat\")"
   ]
  },
  {
   "cell_type": "code",
   "execution_count": 92,
   "metadata": {
    "collapsed": false
   },
   "outputs": [
    {
     "data": {
      "text/plain": [
       "Dict{Any,Any} with 0 entries"
      ]
     },
     "execution_count": 92,
     "metadata": {},
     "output_type": "execute_result"
    }
   ],
   "source": [
    "EntradasYValores=Dict{Any,Any}()"
   ]
  },
  {
   "cell_type": "code",
   "execution_count": 93,
   "metadata": {
    "collapsed": false
   },
   "outputs": [
    {
     "name": "stdout",
     "output_type": "stream",
     "text": [
      "elapsed time: 67.342616384 seconds (1684210652 bytes allocated, 3.58% gc time)\n"
     ]
    }
   ],
   "source": [
    "@time for k in ListaCA, j in ListaGD\n",
    "    cp(\"./Ejemplo01/CA3/$k\", \"TestCA.dat\")\n",
    "    cp(\"./Ejemplo01/GD/$j\", \"TestGD.dat\")\n",
    "    chumpa=split(readall(`Busca01.x`))\n",
    "    numeritos=int(chumpa[:])\n",
    "    EntradasYValores[(j,k)]=numeritos\n",
    "end"
   ]
  },
  {
   "cell_type": "code",
   "execution_count": 95,
   "metadata": {
    "collapsed": false
   },
   "outputs": [],
   "source": [
    "writedlm(\"Coincidencias01.dat\", EntradasYValores)"
   ]
  },
  {
   "cell_type": "code",
   "execution_count": 29,
   "metadata": {
    "collapsed": false
   },
   "outputs": [
    {
     "name": "stderr",
     "output_type": "stream",
     "text": [
      "Warning: using Gadfly.Stat in module Main conflicts with an existing identifier.\n"
     ]
    }
   ],
   "source": [
    "using Gadfly"
   ]
  },
  {
   "cell_type": "code",
   "execution_count": 96,
   "metadata": {
    "collapsed": false
   },
   "outputs": [],
   "source": [
    "using DataFrames"
   ]
  },
  {
   "cell_type": "code",
   "execution_count": 97,
   "metadata": {
    "collapsed": false
   },
   "outputs": [
    {
     "data": {
      "text/html": [
       "<table class=\"data-frame\"><tr><th></th></tr></table>"
      ],
      "text/plain": [
       "0x0 DataFrame\n"
      ]
     },
     "execution_count": 97,
     "metadata": {},
     "output_type": "execute_result"
    }
   ],
   "source": [
    "dfram=DataFrame()"
   ]
  },
  {
   "cell_type": "code",
   "execution_count": 104,
   "metadata": {
    "collapsed": false
   },
   "outputs": [
    {
     "ename": "LoadError",
     "evalue": "`endof` has no method matching endof(::KeyIterator{Dict{Any,Any}})\nwhile loading In[104], in expression starting on line 1",
     "output_type": "error",
     "traceback": [
      "`endof` has no method matching endof(::KeyIterator{Dict{Any,Any}})\nwhile loading In[104], in expression starting on line 1",
      ""
     ]
    }
   ],
   "source": [
    "dfram[:A]=keys(EntradasYValores)[:]"
   ]
  },
  {
   "cell_type": "code",
   "execution_count": 99,
   "metadata": {
    "collapsed": false
   },
   "outputs": [
    {
     "data": {
      "text/plain": [
       "ValueIterator for a Dict{Any,Any} with 8568 entries. Values:\n",
       "  [2,29,686]\n",
       "  [533,2482,5791]\n",
       "  [0,11,173]\n",
       "  [1,44,901]\n",
       "  [0,9,801]\n",
       "  [275,1108,6084]\n",
       "  [2,14,2488]\n",
       "  [0,39,1568]\n",
       "  [0,3,143]\n",
       "  [0,12,3219]\n",
       "  [4,12,9369]\n",
       "  [3,7,9372]\n",
       "  [1,9,1528]\n",
       "  [0,14,566]\n",
       "  [0,11,46]\n",
       "  [1,11,2306]\n",
       "  [43,304,4170]\n",
       "  [2,95,1858]\n",
       "  [2,14,3643]\n",
       "  [1,7,1181]\n",
       "  [23,143,3027]\n",
       "  [2,5,6601]\n",
       "  [4,316,566]\n",
       "  [3,39,2554]\n",
       "  ⋮"
      ]
     },
     "execution_count": 99,
     "metadata": {},
     "output_type": "execute_result"
    }
   ],
   "source": [
    "dfram[:B]=values(EntradasYValores)"
   ]
  },
  {
   "cell_type": "code",
   "execution_count": 100,
   "metadata": {
    "collapsed": false
   },
   "outputs": [
    {
     "data": {
      "text/plain": [
       "(1,2)"
      ]
     },
     "execution_count": 100,
     "metadata": {},
     "output_type": "execute_result"
    }
   ],
   "source": [
    "size(dfram)"
   ]
  },
  {
   "cell_type": "code",
   "execution_count": 102,
   "metadata": {
    "collapsed": false
   },
   "outputs": [
    {
     "name": "stdout",
     "output_type": "stream",
     "text": [
      "Symbol not found. Falling back on apropos search ...\n",
      "No help information found.\n"
     ]
    }
   ],
   "source": [
    "?Iterators"
   ]
  },
  {
   "cell_type": "code",
   "execution_count": null,
   "metadata": {
    "collapsed": true
   },
   "outputs": [],
   "source": []
  }
 ],
 "metadata": {
  "kernelspec": {
   "display_name": "Julia 0.3.7-pre",
   "language": "julia",
   "name": "julia-0.3"
  },
  "language_info": {
   "name": "julia",
   "version": "0.3.7"
  }
 },
 "nbformat": 4,
 "nbformat_minor": 0
}
